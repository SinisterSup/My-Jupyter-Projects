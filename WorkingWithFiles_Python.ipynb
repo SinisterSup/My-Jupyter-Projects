{
 "cells": [
  {
   "cell_type": "code",
   "execution_count": null,
   "id": "0558f514",
   "metadata": {},
   "outputs": [],
   "source": [
    "import csv\n",
    "with open('DataSets/year2017.csv') as file_obj:\n",
    "    file_data = csv.reader(file_obj,skipinitialspace = True)\n",
    "    file_list = list(file_data)\n",
    "    for col in file_list[0]:\n",
    "        print(col)"
   ]
  },
  {
   "cell_type": "code",
   "execution_count": null,
   "id": "b9996775",
   "metadata": {},
   "outputs": [],
   "source": [
    "import csv\n",
    "with open('DataSets/year2017.csv') as file_obj:\n",
    "    file_data = csv.DictReader(file_obj,skipinitialspace = True)\n",
    "    file_list = list(file_data)\n",
    "Casualties = []    \n",
    "for each_row in file_list:\n",
    "    cslts = each_row['casualities']\n",
    "    weapon = each_row['Weapon_type']\n",
    "    if weapon == 'Explosives' and cslts != '':\n",
    "        Casualties.append(float(cslts))\n",
    "print(int(sum(Casualties)))\n",
    "    \n",
    "        \n"
   ]
  },
  {
   "cell_type": "code",
   "execution_count": null,
   "id": "854c6527",
   "metadata": {},
   "outputs": [],
   "source": [
    "import csv\n",
    "with open('DataSets/year2017.csv') as file_obj:\n",
    "    file_data = csv.DictReader(file_obj,skipinitialspace = True)\n",
    "    file_list = list(file_data)\n",
    "Casualties = []    \n",
    "print(type(file_data))\n",
    "for each_row in file_list:\n",
    "    print(type(each_row))\n",
    "    "
   ]
  },
  {
   "cell_type": "code",
   "execution_count": null,
   "id": "f60257b8",
   "metadata": {},
   "outputs": [],
   "source": [
    "import csv\n",
    "with open('DataSets/year2017.csv') as file_obj:\n",
    "    file_data = csv.DictReader(file_obj,skipinitialspace = True)\n",
    "    file_list = list(file_data)\n",
    "    \n",
    "Month = {}\n",
    "for row in file_list:\n",
    "    key = row['Month']\n",
    "    value = row['Killed']\n",
    "    if value != '':\n",
    "        value = int(float(value))\n",
    "    else:\n",
    "        value = 0\n",
    "    if key not in Month:\n",
    "        Month[key] = value\n",
    "    else:\n",
    "        Month[key] = Month[key] + value\n",
    "\n",
    "for k,v in Month.items():\n",
    "    print('{} {}'.format(k,v))"
   ]
  },
  {
   "cell_type": "code",
   "execution_count": null,
   "id": "ee63d520",
   "metadata": {
    "scrolled": true
   },
   "outputs": [],
   "source": [
    "import csv\n",
    "with open('DataSets/year2017.csv') as file_obj:\n",
    "    file_data = csv.DictReader(file_obj,skipinitialspace = True)\n",
    "    file_list = list(file_data)\n",
    "    \n",
    "CountryVsCasualties = {}\n",
    "for row in file_list:\n",
    "    key = row['Country']\n",
    "    value = row['casualities']\n",
    "    if value != '':\n",
    "        value = int(float(value))\n",
    "    else:\n",
    "        value = 0\n",
    "    if key not in CountryVsCasualties:\n",
    "        CountryVsCasualties[key] = value\n",
    "    else:\n",
    "        CountryVsCasualties[key] = CountryVsCasualties[key] + value\n",
    "\n",
    "for k,v in CountryVsCasualties.items():\n",
    "    print('{} {}'.format(k,v))"
   ]
  },
  {
   "cell_type": "code",
   "execution_count": 46,
   "id": "6d8dfdf2",
   "metadata": {},
   "outputs": [
    {
     "name": "stdout",
     "output_type": "stream",
     "text": [
      "14\n"
     ]
    }
   ],
   "source": [
    "import csv\n",
    "with open('DataSets/amazon_jobs_dataset.csv',encoding = \"utf-8\") as file_obj:\n",
    "    file_data = csv.DictReader(file_obj,skipinitialspace = True)\n",
    "    file_list = list(file_data)\n",
    "\n",
    "count = 0\n",
    "for row in file_list:\n",
    "    JobTitle = row['Title']\n",
    "    \n",
    "    if 'Computer Vision' in JobTitle:\n",
    "        count = count + 1\n",
    "print(count)"
   ]
  },
  {
   "cell_type": "code",
   "execution_count": 47,
   "id": "714516dc",
   "metadata": {},
   "outputs": [
    {
     "name": "stdout",
     "output_type": "stream",
     "text": [
      "66 1856\n"
     ]
    }
   ],
   "source": [
    "import csv\n",
    "with open('DataSets/amazon_jobs_dataset.csv',encoding = \"utf-8\") as file_obj:\n",
    "    file_data = csv.DictReader(file_obj,skipinitialspace = True)\n",
    "    file_list = list(file_data)\n",
    "\n",
    "countbnglr = 0\n",
    "countsttl = 0\n",
    "for row in file_list:\n",
    "    loc = row['location']\n",
    "    \n",
    "    if 'Bangalore' in loc:\n",
    "        countbnglr = countbnglr + 1\n",
    "    elif 'Seattle' in loc:\n",
    "        countsttl = countsttl + 1\n",
    "        \n",
    "print(countbnglr,countsttl)"
   ]
  },
  {
   "cell_type": "code",
   "execution_count": 58,
   "id": "37435134",
   "metadata": {},
   "outputs": [
    {
     "name": "stdout",
     "output_type": "stream",
     "text": [
      "156\n"
     ]
    }
   ],
   "source": [
    "import csv\n",
    "with open('DataSets/amazon_jobs_dataset.csv',encoding = \"utf-8\") as file_obj:\n",
    "    file_data = csv.DictReader(file_obj,skipinitialspace = True)\n",
    "    file_list = list(file_data)\n",
    "\n",
    "countCA = 0\n",
    "\n",
    "for row in file_list:\n",
    "    loc = row['location']\n",
    "    loc_list = loc.split(', ')\n",
    "    \n",
    "    if loc_list[0] == 'CA':\n",
    "        countCA = countCA + 1\n",
    "        \n",
    "print(countCA)\n",
    "    "
   ]
  },
  {
   "cell_type": "code",
   "execution_count": 89,
   "id": "b8fb583d",
   "metadata": {},
   "outputs": [
    {
     "name": "stdout",
     "output_type": "stream",
     "text": [
      "January 907\n",
      "February 790\n",
      "March 13\n",
      "April 0\n",
      "May 0\n",
      "June 0\n",
      "July 0\n",
      "August 0\n",
      "September 0\n",
      "October 0\n",
      "November 0\n",
      "December 0\n"
     ]
    }
   ],
   "source": [
    "import csv\n",
    "with open('DataSets/amazon_jobs_dataset.csv',encoding = \"utf-8\") as file_obj:\n",
    "    file_data = csv.DictReader(file_obj,skipinitialspace = True)\n",
    "    file_list = list(file_data)\n",
    "\n",
    "count = [0 for i in range(12)]\n",
    "months = ['January', 'February', 'March', 'April', 'May', 'June', \n",
    "          'July','August','September','October','November','December']\n",
    "for row in file_list:\n",
    "    date = row['Posting_date']\n",
    "    keys = ['day','month','year']\n",
    "    values = date.split('-')\n",
    "    date_dict = dict(zip(keys,values))\n",
    "    \n",
    "    if date_dict['year'] == '18':\n",
    "        \n",
    "        if 'Jan' in date_dict['month']:\n",
    "            count[0] = count[0] + 1\n",
    "        elif 'Feb' in date_dict['month']:\n",
    "            count[1] = count[1] + 1\n",
    "        elif 'Mar' in date_dict['month']:\n",
    "            count[2] = count[2] + 1\n",
    "        elif 'Apr' in date_dict['month']:\n",
    "            count[3] = count[3] + 1\n",
    "        elif 'May' in date_dict['month']:\n",
    "            count[4] = count[4] + 1\n",
    "        elif 'Jun' in date_dict['month']:\n",
    "            count[5] = count[5] + 1\n",
    "        elif 'Jul' in date_dict['month']:\n",
    "            count[6] = count[6] + 1\n",
    "        elif 'Aug' in date_dict['month']:\n",
    "            count[7] = count[7] + 1\n",
    "        elif 'Sep' in date_dict['month']:\n",
    "            count[8] = count[8] + 1\n",
    "        elif 'Oct' in date_dict['month']:\n",
    "            count[9] = count[9] + 1\n",
    "        elif 'Nov' in date_dict['month']:\n",
    "            count[10] = count[10] + 1\n",
    "        elif 'Dec' in date_dict['month']:\n",
    "            count[11] = count[11] + 1\n",
    "\n",
    "for i in range(12):\n",
    "    print(months[i],int(count[i]))"
   ]
  },
  {
   "cell_type": "code",
   "execution_count": 103,
   "id": "dfa93156",
   "metadata": {},
   "outputs": [
    {
     "name": "stdout",
     "output_type": "stream",
     "text": [
      "Java 2090\n",
      "C++ 153\n",
      "Python 29\n"
     ]
    }
   ],
   "source": [
    "import csv\n",
    "with open('DataSets/amazon_jobs_dataset.csv',encoding = \"utf-8\") as file_obj:\n",
    "    file_data = csv.DictReader(file_obj,skipinitialspace = True)\n",
    "    file_list = list(file_data)\n",
    "\n",
    "java_count = 0\n",
    "c_plus_count = 0\n",
    "python_count = 0\n",
    "for row in file_list:\n",
    "    quali = row['BASIC QUALIFICATIONS']\n",
    "    if 'Bachelor' in quali or 'BS' in quali or 'BA' in quali:\n",
    "        if 'Java' in quali:\n",
    "            java_count = java_count + 1\n",
    "        elif 'C++' in quali:\n",
    "            c_plus_count = c_plus_count + 1\n",
    "        elif 'Python' in quali:\n",
    "            python_count = python_count + 1\n",
    "            \n",
    "            \n",
    "\n",
    "print('Java', java_count)\n",
    "print('C++', c_plus_count)\n",
    "print('Python', python_count)\n",
    "    \n"
   ]
  },
  {
   "cell_type": "code",
   "execution_count": 109,
   "id": "99f56c16",
   "metadata": {},
   "outputs": [
    {
     "name": "stdout",
     "output_type": "stream",
     "text": [
      "US 2004\n"
     ]
    }
   ],
   "source": [
    "import csv\n",
    "with open('DataSets/amazon_jobs_dataset.csv',encoding = \"utf-8\") as file_obj:\n",
    "    file_data = csv.DictReader(file_obj,skipinitialspace = True)\n",
    "    file_list = list(file_data)\n",
    "\n",
    "count = 0    \n",
    "for row in file_list:\n",
    "    quali = row['BASIC QUALIFICATIONS']\n",
    "    loc = row['location']\n",
    "    loc_list = loc.split(', ')\n",
    "    \n",
    "    if 'Java' in quali and 'US' in loc_list[0]:\n",
    "        count = count + 1\n",
    "        \n",
    "print('US', count)\n"
   ]
  }
 ],
 "metadata": {
  "kernelspec": {
   "display_name": "Python 3 (ipykernel)",
   "language": "python",
   "name": "python3"
  },
  "language_info": {
   "codemirror_mode": {
    "name": "ipython",
    "version": 3
   },
   "file_extension": ".py",
   "mimetype": "text/x-python",
   "name": "python",
   "nbconvert_exporter": "python",
   "pygments_lexer": "ipython3",
   "version": "3.9.7"
  }
 },
 "nbformat": 4,
 "nbformat_minor": 5
}
