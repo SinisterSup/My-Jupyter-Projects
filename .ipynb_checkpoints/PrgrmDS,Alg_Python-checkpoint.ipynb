{
 "cells": [
  {
   "cell_type": "markdown",
   "id": "dc808c41",
   "metadata": {},
   "source": [
    "# Week 2 Programming Assignment\n",
    "## ThreeSquares function \n"
   ]
  },
  {
   "cell_type": "code",
   "execution_count": 21,
   "id": "14878233",
   "metadata": {},
   "outputs": [
    {
     "name": "stdout",
     "output_type": "stream",
     "text": [
      "188\n",
      "[0, 1, 4, 9, 16, 25, 36, 49, 64, 81, 100, 121, 144, 169]\n"
     ]
    },
    {
     "data": {
      "text/plain": [
       "False"
      ]
     },
     "execution_count": 21,
     "metadata": {},
     "output_type": "execute_result"
    }
   ],
   "source": [
    "def sqr_lst_til(num):\n",
    "    sqr_list = []\n",
    "    for x in range(num+1):\n",
    "        sqr = x**2\n",
    "        if sqr <= num:\n",
    "            sqr_list.append(sqr)\n",
    "        else:\n",
    "            break\n",
    "    return sqr_list\n",
    "               \n",
    "\n",
    "def threesquares(m):\n",
    "    \n",
    "    for i in sqr_lst_til(m):\n",
    "        for j in sqr_lst_til(m):\n",
    "            for k in sqr_lst_til(m):\n",
    "                \n",
    "                if m == i+j+k:\n",
    "                    return True\n",
    "    else:\n",
    "        return False\n",
    "                \n",
    "n = int(input())                \n",
    "print(sqr_lst_til(n))\n",
    "\n",
    "threesquares(n)\n",
    "    "
   ]
  },
  {
   "cell_type": "markdown",
   "id": "a11c4151",
   "metadata": {},
   "source": [
    "## RepetitionCheck"
   ]
  },
  {
   "cell_type": "code",
   "execution_count": 35,
   "id": "2dc4594a",
   "metadata": {},
   "outputs": [
    {
     "name": "stdout",
     "output_type": "stream",
     "text": [
      "Enter the Iterable Object:'sdfgd'\n",
      "False\n"
     ]
    },
    {
     "data": {
      "text/plain": [
       "set"
      ]
     },
     "execution_count": 35,
     "metadata": {},
     "output_type": "execute_result"
    }
   ],
   "source": [
    "def repfree(s):\n",
    "    return(len(s)==len(set(s)))\n",
    "\n",
    "\n",
    "n = input('Enter the Iterable Object:')\n",
    "print(repfree(n))\n",
    "type(set(n))"
   ]
  },
  {
   "cell_type": "markdown",
   "id": "fb4a7966",
   "metadata": {},
   "source": [
    "## Hill Valley\n"
   ]
  },
  {
   "cell_type": "markdown",
   "id": "21d8efee",
   "metadata": {},
   "source": [
    "A list of numbers is said to be a hill if it consists of an ascending sequence followed by a descending sequence, where each of the sequences is of length at least two. Similarly, a list of numbers is said to be a valley if it consists of an descending sequence followed by an ascending sequence. You can assume that consecutive numbers in the input sequence are always different from each other.\n",
    "\n",
    "Write a Python function hillvalley(l) that takes a list l of integers and returns True if it is a hill or a valley, and False otherwise.\n",
    "\n",
    "Here are some examples to show how your function should work.\n",
    "\n",
    ">>> hillvalley([1,2,3,5,4])\n",
    "True\n",
    "\n",
    ">>> hillvalley([1,2,3,4,5])\n",
    "False\n",
    "\n",
    ">>> hillvalley([5,4,1,2,3])\n",
    "True\n",
    "\n",
    ">>> hillvalley([5,4,3,2,1])\n",
    "False"
   ]
  },
  {
   "cell_type": "code",
   "execution_count": 30,
   "id": "d0f37d24",
   "metadata": {},
   "outputs": [
    {
     "data": {
      "text/plain": [
       "True"
      ]
     },
     "execution_count": 30,
     "metadata": {},
     "output_type": "execute_result"
    }
   ],
   "source": [
    "def hillvalley(l):\n",
    "    dec = False\n",
    "    inc = False\n",
    "    c = 0\n",
    "    for i in range(len(l)-1):\n",
    "        if c > 1:\n",
    "            return False\n",
    "        right = l[i+1]\n",
    "        middle = l[i]\n",
    "        diff = right - middle\n",
    "        if diff > 0:\n",
    "            if dec:\n",
    "                c += 1\n",
    "            inc = True\n",
    "            dec = False\n",
    "        elif diff < 0:\n",
    "            if inc:\n",
    "                c += 1\n",
    "            dec = True\n",
    "            inc = False\n",
    "    if c == 1:\n",
    "        return True\n",
    "    return False\n",
    "\n",
    "hillvalley([5,4,1,2,3])"
   ]
  }
 ],
 "metadata": {
  "kernelspec": {
   "display_name": "Python 3 (ipykernel)",
   "language": "python",
   "name": "python3"
  },
  "language_info": {
   "codemirror_mode": {
    "name": "ipython",
    "version": 3
   },
   "file_extension": ".py",
   "mimetype": "text/x-python",
   "name": "python",
   "nbconvert_exporter": "python",
   "pygments_lexer": "ipython3",
   "version": "3.9.7"
  }
 },
 "nbformat": 4,
 "nbformat_minor": 5
}
