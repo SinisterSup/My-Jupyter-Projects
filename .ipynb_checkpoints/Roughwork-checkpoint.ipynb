{
 "cells": [
  {
   "cell_type": "code",
   "execution_count": null,
   "id": "319112df",
   "metadata": {},
   "outputs": [
    {
     "name": "stdout",
     "output_type": "stream",
     "text": [
      "Courses\n",
      "TRAN~Transfiguration~1~2011-2012~Minerva McGonagall\n",
      "['TRAN']\n",
      "CHAR~Charms~1~2011-2012~Filius Flitwick\n",
      "['TRAN', 'CHAR']\n",
      "Students\n",
      "SLY2301~Hannah Abbott\n",
      "{'SLY2301': 'Hannah Abbott'}\n",
      "SLY2302~Euan Abercrombie\n",
      "{'SLY2301': 'Hannah Abbott', 'SLY2302': 'Euan Abercrombie'}\n"
     ]
    }
   ],
   "source": [
    "def hogwarts_gpa():\n",
    "    \n",
    "    courses = []\n",
    "    student_details = {}\n",
    "    \n",
    "    while True:\n",
    "        s = input()\n",
    "        if s == 'Courses':\n",
    "            d = 1\n",
    "        elif s == 'Students':\n",
    "            d = 2\n",
    "        elif d == 'Grades':\n",
    "            d = 3\n",
    "        elif s == 'EndOfInput':\n",
    "            break\n",
    "        \n",
    "        else:\n",
    "            list = s.split('~')\n",
    "            if d == 1:\n",
    "                courses.append(list[0])\n",
    "                print(courses)\n",
    "            elif d == 2:\n",
    "                roll_num = list[0]\n",
    "                name = list[1]\n",
    "                student_details[roll_num] = name\n",
    "                print(student_details)\n",
    "                \n",
    "hogwarts_gpa()"
   ]
  }
 ],
 "metadata": {
  "kernelspec": {
   "display_name": "Python 3 (ipykernel)",
   "language": "python",
   "name": "python3"
  },
  "language_info": {
   "codemirror_mode": {
    "name": "ipython",
    "version": 3
   },
   "file_extension": ".py",
   "mimetype": "text/x-python",
   "name": "python",
   "nbconvert_exporter": "python",
   "pygments_lexer": "ipython3",
   "version": "3.9.7"
  }
 },
 "nbformat": 4,
 "nbformat_minor": 5
}
