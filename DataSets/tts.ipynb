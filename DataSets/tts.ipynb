{
 "cells": [
  {
   "cell_type": "code",
   "execution_count": null,
   "id": "548941fe",
   "metadata": {},
   "outputs": [],
   "source": []
  },
  {
   "cell_type": "code",
   "execution_count": 8,
   "id": "6f749def",
   "metadata": {},
   "outputs": [],
   "source": [
    "import os\n",
    "from playsound import playsound\n",
    "\n",
    "from gtts import gTTS\n",
    "\n",
    "\n",
    "def playaudio(audio):\n",
    "    playsound(audio)\n",
    "\n",
    "def convert_to_audio(text):\n",
    "    audio = gTTS(text)\n",
    "    file_name = \"textaudio2.mp3\"\n",
    "    audio.save(file_name)\n",
    "    playaudio(file_name)\n",
    "    os.remove(file_name)\n",
    "\n",
    "convert_to_audio(\"Hello Everyone This is a great idea!\")"
   ]
  }
 ],
 "metadata": {
  "kernelspec": {
   "display_name": "Python 3 (ipykernel)",
   "language": "python",
   "name": "python3"
  },
  "language_info": {
   "codemirror_mode": {
    "name": "ipython",
    "version": 3
   },
   "file_extension": ".py",
   "mimetype": "text/x-python",
   "name": "python",
   "nbconvert_exporter": "python",
   "pygments_lexer": "ipython3",
   "version": "3.9.12"
  }
 },
 "nbformat": 4,
 "nbformat_minor": 5
}
