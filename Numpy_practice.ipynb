{
 "cells": [
  {
   "cell_type": "code",
   "execution_count": null,
   "id": "5073c44b",
   "metadata": {},
   "outputs": [],
   "source": [
    "import numpy as np\n",
    "\n",
    "arr = np.zeros(10,dtype = int)\n",
    "arr[5] = 1\n",
    "\n",
    "for i in arr:\n",
    "    print(i,end = ' ')\n",
    "print()\n",
    "c = np.random.rand()\n",
    "print(c)"
   ]
  },
  {
   "cell_type": "code",
   "execution_count": null,
   "id": "9a9a36f9",
   "metadata": {},
   "outputs": [],
   "source": [
    "import numpy as np\n",
    "\n",
    "a = np.arange(9,50,dtype = int)\n",
    "for i in a:\n",
    "    print(i,end = ' ')"
   ]
  },
  {
   "cell_type": "code",
   "execution_count": 2,
   "id": "63810452",
   "metadata": {},
   "outputs": [
    {
     "name": "stdout",
     "output_type": "stream",
     "text": [
      "0.56\n",
      "1.11\n",
      "1.67\n",
      "2.22\n",
      "2.78\n",
      "3.33\n",
      "3.89\n",
      "4.44\n",
      "0.5555555555555556\n",
      "0.5555555555555556\n",
      "0.5555555555555556\n"
     ]
    }
   ],
   "source": [
    "import numpy as np\n",
    "\n",
    "rope = np.linspace(0,5,9,endpoint = False)\n",
    "rope_cut = rope[:-1]\n",
    "for x in rope[1:]:\n",
    "    print('{:.2f}'.format(x))\n",
    "    \n",
    "print(rope_cut[2]-rope_cut[1])\n",
    "print(rope_cut[3]-rope_cut[2])\n",
    "print(rope_cut[4]-rope_cut[3])"
   ]
  },
  {
   "cell_type": "code",
   "execution_count": null,
   "id": "b696991b",
   "metadata": {},
   "outputs": [],
   "source": [
    "import numpy as np\n",
    "\n",
    "input_=np.arange(1,21,1)\n",
    "input_=input_.reshape(4,5)\n",
    "\n",
    "o1 = input_[2,:3]\n",
    "o2 = input_[1:4, 3]\n",
    "o3 = input_[2:4, :5]\n",
    "o4 = input_[1:3, 1:3]\n",
    "print(o1)\n",
    "print(o2)\n",
    "print(o3)\n",
    "print(o4)\n",
    "print()\n",
    "for x in o1:\n",
    "    print(x,end = ' ')\n",
    "print()\n",
    "for y in o2:\n",
    "    print(y,end = ' ')\n",
    "print()\n",
    "for i in range(o3.shape[0]):\n",
    "    for j in range(o3.shape[1]):\n",
    "        print(o3[i][j],end = ' ')\n",
    "print()\n",
    "for i in range(o4.shape[0]):\n",
    "    for j in range(o4.shape[1]):\n",
    "        print(o4[i][j],end = ' ')"
   ]
  },
  {
   "cell_type": "code",
   "execution_count": null,
   "id": "dea54e8c",
   "metadata": {},
   "outputs": [],
   "source": [
    "import numpy as np\n",
    "\n",
    "b = np.random.randint(1,20,7)\n",
    "print(b)"
   ]
  },
  {
   "cell_type": "code",
   "execution_count": null,
   "id": "6e111757",
   "metadata": {},
   "outputs": [],
   "source": [
    "ind = np.where(b<15)\n",
    "print(ind)"
   ]
  },
  {
   "cell_type": "code",
   "execution_count": null,
   "id": "699182d1",
   "metadata": {},
   "outputs": [],
   "source": [
    "import numpy as np\n",
    "l = [1,2,0,0,4,0]\n",
    "arr = np.array(l)\n",
    "\n",
    "non_zero = np.where(arr!=0)\n",
    "print(non_zero)\n",
    "for x in non_zero[0]:\n",
    "    print(x,end = ' ')"
   ]
  },
  {
   "cell_type": "code",
   "execution_count": null,
   "id": "9af48937",
   "metadata": {},
   "outputs": [],
   "source": [
    "import numpy as np\n",
    "arr = np.array([ 1,  3,  5,  7,  9, 11, 13, 15, 17, 19])\n",
    "\n",
    "mult_3 = np.where(arr%3 == 0)\n",
    "\n",
    "for x in mult_3[0]:\n",
    "    print(x,end = ' ')"
   ]
  },
  {
   "cell_type": "code",
   "execution_count": null,
   "id": "d7e5d142",
   "metadata": {},
   "outputs": [],
   "source": [
    "import numpy as np\n",
    "arr = np.array([1, 2, 3, 4, 5, 6, 7, 8, 9, 10])\n",
    "\n",
    "change_arr = arr\n",
    "change_arr[arr%2 != 0] = -1\n",
    "\n",
    "for x in change_arr:\n",
    "    print(x,end = ' ')"
   ]
  },
  {
   "cell_type": "code",
   "execution_count": null,
   "id": "1cdd95c4",
   "metadata": {},
   "outputs": [],
   "source": [
    "import numpy as np\n",
    "arr = np.array([1, 2, 3, 4, 5, 6, 7, 8, 9, 10],dtype = int)\n",
    "print(arr)\n",
    "negate = arr[~arr[2:8]]\n",
    "print(negate)\n",
    "arr[2:8] = arr[negate]\n",
    "for x in arr:\n",
    "    print(x)"
   ]
  },
  {
   "cell_type": "code",
   "execution_count": null,
   "id": "6cdf7032",
   "metadata": {},
   "outputs": [],
   "source": [
    "import numpy as np\n",
    "arr = np.array([1, 2, 3, 4, 5, 6, 7, 8, 9, 10],dtype = int)\n",
    "\n",
    "neg_arr = np.negative(arr[2:8])\n",
    "\n",
    "for i in arr[:2]:\n",
    "    print(i)\n",
    "for j in neg_arr:\n",
    "    print(j)\n",
    "for k in arr[8:]:\n",
    "    print(k)\n"
   ]
  },
  {
   "cell_type": "code",
   "execution_count": 27,
   "id": "7ac7ea60",
   "metadata": {},
   "outputs": [
    {
     "name": "stdout",
     "output_type": "stream",
     "text": [
      "15 156\n",
      "19 180\n",
      "20 162\n",
      "21 157\n",
      "22 158\n",
      "23 179\n",
      "16 182\n",
      "18 183\n",
      "20 159\n",
      "15 160\n",
      "17 172\n"
     ]
    }
   ],
   "source": [
    "import numpy as np\n",
    "age=np.array([15,17,19,20,14,21,16,19,13,20,22,23,21,16,18,19,20,15,17,18])\n",
    "height=np.array([156,144,180,162,152,157,154,155,151,150,158,179,126,182,183,154,159,160,172,149])\n",
    "\n",
    "sel_age = age[height>155]\n",
    "sel_hght = height[height>155]\n",
    "\n",
    "final_sel = zip(sel_age,sel_hght)\n",
    "\n",
    "for x,y in final_sel:\n",
    "    print(x, y)"
   ]
  },
  {
   "cell_type": "code",
   "execution_count": null,
   "id": "ab504776",
   "metadata": {},
   "outputs": [],
   "source": []
  }
 ],
 "metadata": {
  "kernelspec": {
   "display_name": "Python 3 (ipykernel)",
   "language": "python",
   "name": "python3"
  },
  "language_info": {
   "codemirror_mode": {
    "name": "ipython",
    "version": 3
   },
   "file_extension": ".py",
   "mimetype": "text/x-python",
   "name": "python",
   "nbconvert_exporter": "python",
   "pygments_lexer": "ipython3",
   "version": "3.9.7"
  }
 },
 "nbformat": 4,
 "nbformat_minor": 5
}
