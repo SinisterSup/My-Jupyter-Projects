{
 "cells": [
  {
   "cell_type": "code",
   "execution_count": 8,
   "id": "bea588cf",
   "metadata": {},
   "outputs": [
    {
     "name": "stdout",
     "output_type": "stream",
     "text": [
      "6\n",
      "32 256 1024 256 256 256\n",
      "1\n"
     ]
    }
   ],
   "source": [
    "def isExists_2048(n, a) :\n",
    "    # Write your code here.\n",
    "    a.sort()\n",
    "    i = 0\n",
    "    while i < n:\n",
    "        add_similar(i, a)\n",
    "        found = int('2048') in a\n",
    "        if found:\n",
    "            return 1\n",
    "        i += 1\n",
    "    else:\n",
    "        return 0\n",
    "    \n",
    "def add_similar(ind, arr):\n",
    "        try:\n",
    "            if arr[ind] == arr[ind+1]:\n",
    "                try:\n",
    "                    x = arr.pop(ind)\n",
    "                    if arr[ind] == arr[ind+1]:\n",
    "                        y = arr.pop(ind+1)\n",
    "                    else:\n",
    "                        y = arr.pop(ind)\n",
    "                    z = x + y\n",
    "                    arr.append(z)\n",
    "                    arr.sort()\n",
    "                except IndexError:\n",
    "                    y = arr.pop(ind)\n",
    "                    z = x + y\n",
    "                    arr.append(z)\n",
    "                    arr.sort()\n",
    "            else:\n",
    "                pass\n",
    "            if arr[ind] == arr[ind+1]:\n",
    "                add_similar(ind, arr)\n",
    "            else:\n",
    "                pass\n",
    "        except IndexError:\n",
    "            pass\n",
    "    \n",
    "n = int(input())\n",
    "a = list(map(int, input().strip().split()))\n",
    "print(isExists_2048(n,a))"
   ]
  },
  {
   "cell_type": "code",
   "execution_count": 8,
   "id": "1189a33c",
   "metadata": {},
   "outputs": [
    {
     "name": "stdout",
     "output_type": "stream",
     "text": [
      "abcdabceb\n",
      "dabce\n"
     ]
    }
   ],
   "source": [
    "def findLongestSubstring(string):\n",
    "    \n",
    "    n = len(string)\n",
    "    st = 0\n",
    "    maxlen = 0\n",
    "    start = 0\n",
    "    # Hash Map to store last occurrence\n",
    "    # of each already visited character.\n",
    "    pos = {}\n",
    "    # Last occurrence of first\n",
    "    # character is index 0\n",
    "    pos[string[0]] = 0\n",
    "    \n",
    "    for i in range(1, n):\n",
    "        # If this character is not present in hash,\n",
    "        # then this is first occurrence of this\n",
    "        # character, store this in hash.\n",
    "        if string[i] not in pos:\n",
    "            pos[string[i]] = i\n",
    "        else:\n",
    "            # If this character is present in hash then\n",
    "            # this character has previous occurrence,\n",
    "            # check if that occurrence is before or after\n",
    "            # starting point of current substring.\n",
    "            if pos[string[i]] >= st:\n",
    "                # find length of current substring and\n",
    "                # update maxlen and start accordingly.\n",
    "                currlen = i - st\n",
    "                if maxlen < currlen:\n",
    "                    maxlen = currlen\n",
    "                    start = st\n",
    "                # Next substring will start after the last\n",
    "                # occurrence of current character to avoid\n",
    "                # its repetition.\n",
    "                st = pos[string[i]] + 1\n",
    "    \n",
    "            # Update last occurrence of\n",
    "            # current character.\n",
    "            pos[string[i]] = i\n",
    "\n",
    "    # Compare length of last substring with maxlen\n",
    "    # and update maxlen and start accordingly.\n",
    "    if maxlen < i - st:\n",
    "        maxlen = i - st\n",
    "        start = st\n",
    "        \n",
    "    # The required longest substring without\n",
    "    # repeating characters is from string[start]\n",
    "    # to string[start+maxlen-1].\n",
    "    return string[start : start + maxlen]\n",
    " \n",
    "# Driver Code\n",
    "if __name__ == \"__main__\":\n",
    "    \n",
    "    string = input()\n",
    "    print(findLongestSubstring(string))"
   ]
  },
  {
   "cell_type": "code",
   "execution_count": 6,
   "id": "09687dea",
   "metadata": {},
   "outputs": [
    {
     "name": "stdout",
     "output_type": "stream",
     "text": [
      "abcdabceb\n",
      "5\n"
     ]
    }
   ],
   "source": [
    "def longestUniqueSubsttr(string):\n",
    "      \n",
    "    # Creating a set to store the last positions of occurrence\n",
    "    seen = {}\n",
    "    maximum_length = 0\n",
    "    \n",
    "    start = 0\n",
    "      \n",
    "    for end in range(len(string)):\n",
    "        if string[end] in seen:\n",
    "            start = max(start, seen[string[end]] + 1)\n",
    "        seen[string[end]] = end\n",
    "        maximum_length = max(maximum_length, end-start + 1)\n",
    "    return maximum_length\n",
    "  \n",
    "# Driver Code\n",
    "string = input()\n",
    "length = longestUniqueSubsttr(string)\n",
    "print(length)"
   ]
  },
  {
   "cell_type": "code",
   "execution_count": 12,
   "id": "c54561a9",
   "metadata": {},
   "outputs": [
    {
     "name": "stdout",
     "output_type": "stream",
     "text": [
      "6\n",
      "3 12 34 2 0 -1\n",
      "34 2 0 -1\n"
     ]
    }
   ],
   "source": [
    "def leadersInArr(n, array):\n",
    "    n = len(array)\n",
    "    a = array[::-1]\n",
    "    leaders = []\n",
    "    leader = a[0]\n",
    "    i = 0\n",
    "    while i < n:\n",
    "        if a[i] >= leader:\n",
    "            leader = a[i]\n",
    "            leaders.append(str(leader))\n",
    "        i += 1\n",
    "    return leaders\n",
    "\n",
    "\n",
    "def main():\n",
    "    n = int(input())\n",
    "    arr = list(map(int, input().strip().split()))\n",
    "    final_ans = leadersInArr(n, arr)\n",
    "    print(' '.join(final_ans[::-1]))\n",
    "    \n",
    "if __name__ == \"__main__\":\n",
    "    main()"
   ]
  },
  {
   "cell_type": "code",
   "execution_count": null,
   "id": "871a6162",
   "metadata": {},
   "outputs": [],
   "source": [
    "from sys import stdin\n",
    "\n",
    "def arrayEqulibriumIndex(arr, n) :\n",
    "    #Your code goes here\n",
    "    for i in range(n):\n",
    "        frst_hlf = arr[:i]\n",
    "        scnd_hlf = arr[i+1:]\n",
    "\n",
    "        sum1 = 0\n",
    "        sum2 = 0  \n",
    "\n",
    "        for j in frst_hlf:\n",
    "            sum1 = sum1 + j\n",
    "\n",
    "        for j in scnd_hlf:\n",
    "            sum2 = sum2 + j\n",
    "\n",
    "        if sum1 == sum2:\n",
    "            return i\n",
    "\n",
    "#Taking Input Using Fast I/O\n",
    "def takeInput() :\n",
    "    n = int(stdin.readline().rstrip())\n",
    "\n",
    "    if n == 0 :\n",
    "        return list(), 0\n",
    "\n",
    "    arr = list(map(int, stdin.readline().rstrip().split(\" \")))\n",
    "    return arr, n\n",
    "\n",
    "\n",
    "#main\n",
    "t = int(stdin.readline().rstrip())\n",
    "\n",
    "while t > 0 :\n",
    "    arr, n = takeInput()\n",
    "    if n != 0 :\n",
    "        print(arrayEqulibriumIndex(arr, n))\n",
    "        \n",
    "    t -= 1"
   ]
  },
  {
   "cell_type": "code",
   "execution_count": null,
   "id": "9a2dbffd",
   "metadata": {},
   "outputs": [],
   "source": [
    "def checkArmstrng(num):\n",
    "    \n",
    "    l = len(str(num))\n",
    "            \n",
    "    Arm_sum = 0\n",
    "    temp = num        \n",
    "            \n",
    "    while num > 0:\n",
    "        x = num % 10\n",
    "        Arm_sum = Arm_sum + x**l\n",
    "        num = num//10\n",
    "        \n",
    "    if temp == Arm_sum:\n",
    "        return True\n",
    "    else:\n",
    "        return False\n",
    "    \n",
    "n = int(input())\n",
    "\n",
    "if checkArmstrng(n):\n",
    "    print('true')\n",
    "else:\n",
    "    print('false')\n",
    "    \n",
    "    "
   ]
  },
  {
   "cell_type": "code",
   "execution_count": null,
   "id": "507175dd",
   "metadata": {},
   "outputs": [],
   "source": [
    "n = int(input())\n",
    "\n",
    "for i in range(n,0,-1):\n",
    "    for j in range(1,i+1):\n",
    "        print(i,end='')\n",
    "    print()"
   ]
  },
  {
   "cell_type": "code",
   "execution_count": null,
   "id": "ea5d2804",
   "metadata": {},
   "outputs": [],
   "source": [
    "n = int(input())\n",
    "\n",
    "for i in range(1,n+1):\n",
    "    for j in range(n-i+1,1,-1):\n",
    "        print(' ',end='')\n",
    "    for j in range(1,i+1):\n",
    "        print(j,end='')\n",
    "    print()"
   ]
  },
  {
   "cell_type": "code",
   "execution_count": 1,
   "id": "a021e643",
   "metadata": {},
   "outputs": [
    {
     "name": "stdout",
     "output_type": "stream",
     "text": [
      "4\n",
      "   1\n",
      "  232\n",
      " 34543\n",
      "4567654\n"
     ]
    }
   ],
   "source": [
    "n = int(input())\n",
    "\n",
    "for i in range(1,n+1):\n",
    "    for j in range(n-i,0,-1):\n",
    "        print(' ',end='')\n",
    "    for j in range(i,(2*i-1)+1):\n",
    "        print(j,end='')\n",
    "    for j in range((2*i-2),i-1,-1):\n",
    "        print(j,end='')\n",
    "    print()"
   ]
  },
  {
   "cell_type": "code",
   "execution_count": 5,
   "id": "3a2a3f89",
   "metadata": {},
   "outputs": [
    {
     "name": "stdout",
     "output_type": "stream",
     "text": [
      "4\n",
      "1      1\n",
      "12    21\n",
      "123  321\n",
      "12344321\n"
     ]
    }
   ],
   "source": [
    "n = int(input())\n",
    "\n",
    "for i in range(1,n+1):\n",
    "    \n",
    "    for j in range(1,i+1):\n",
    "        print(j,end = '')\n",
    "    for j in range(2*n-2*i):\n",
    "        print(' ',end='')\n",
    "    for j in range(i,0,-1):\n",
    "        print(j,end = '')\n",
    "    print()"
   ]
  },
  {
   "cell_type": "code",
   "execution_count": null,
   "id": "3513d55c",
   "metadata": {},
   "outputs": [],
   "source": [
    "n = int(input())\n",
    "\n",
    "for i in range(1,n+1):\n",
    "    for j in range(n-i,0,-1):\n",
    "        print(' ',end = '')\n",
    "    for j in range(i,0,-1):\n",
    "        print(j,end = '')\n",
    "    for j in range(2,i+1):\n",
    "        print(j,end = '')\n",
    "        \n",
    "    print()"
   ]
  },
  {
   "cell_type": "code",
   "execution_count": null,
   "id": "0ee1e500",
   "metadata": {},
   "outputs": [],
   "source": [
    "n = int(input())\n",
    "\n",
    "for i in range(1, n+1):\n",
    "    for j in range(1, 2*(n+1)):\n",
    "        if(i == j or j == n+1 or i == 2*(n+1)-j):\n",
    "            print(\"*\", end=\"\")\n",
    "        else:\n",
    "            print( \"0\", end=\"\")\n",
    "    print()"
   ]
  },
  {
   "cell_type": "code",
   "execution_count": null,
   "id": "bde38f81",
   "metadata": {},
   "outputs": [],
   "source": [
    "n = int(input())\n",
    "q = n//2 + 1\n",
    "\n",
    "for i in range(1,q+1):\n",
    "    for j in range(1,i):\n",
    "        print(' ',end = '')\n",
    "    for j in range(1,i+1):\n",
    "        print('*', end= ' ')\n",
    "    print()\n",
    "    \n",
    "for i in range(1,q):\n",
    "    for j in range(1,q-i):\n",
    "        print(\" \",end = '')\n",
    "    for j in range(1,q-i+1):\n",
    "        print('*',end = ' ')\n",
    "    print()"
   ]
  },
  {
   "cell_type": "code",
   "execution_count": null,
   "id": "317b707e",
   "metadata": {},
   "outputs": [],
   "source": [
    "def pldm(s):\n",
    "    c = 0\n",
    "    l = len(s)\n",
    "    for x in range(l):\n",
    "        if s[x]==s[-(x+1)]:\n",
    "            c = c + 1\n",
    "        else:\n",
    "            return False\n",
    "    if c == l:\n",
    "        return True\n",
    "    \n",
    "h = input()\n",
    "\n",
    "\n",
    "if pldm(h):\n",
    "    print('true')\n",
    "else:\n",
    "    print('false')\n",
    "    \n",
    "\n",
    "    "
   ]
  },
  {
   "cell_type": "code",
   "execution_count": 2,
   "id": "098a0c34",
   "metadata": {},
   "outputs": [
    {
     "name": "stdout",
     "output_type": "stream",
     "text": [
      "hello\n",
      "h\n",
      "he\n",
      "hel\n",
      "hell\n",
      "hello\n",
      "e\n",
      "el\n",
      "ell\n",
      "ello\n",
      "l\n",
      "ll\n",
      "llo\n",
      "l\n",
      "lo\n",
      "o\n"
     ]
    }
   ],
   "source": [
    "def sub_string(string):\n",
    "    l = len(string)\n",
    "\n",
    "    for i in range(l):\n",
    "        for j in range(i+1,l+1):\n",
    "            print(string[i:j])\n",
    "\n",
    "            \n",
    "s = input()\n",
    "sub_string(s)"
   ]
  },
  {
   "cell_type": "code",
   "execution_count": null,
   "id": "67328354",
   "metadata": {},
   "outputs": [],
   "source": [
    "n = int(input())\n",
    "arr = [int(s) for s in input().split()]\n",
    "othr_lst = arr[::-1]\n",
    "l = arr[:]\n",
    "for i in othr_lst:\n",
    "    l.append(i)\n",
    "\n",
    "for i in range(n):\n",
    "    if i%2 == 0:\n",
    "        arr[i] = l[i+1]\n",
    "    \n",
    "    elif i%2 == 1:\n",
    "        arr[i] = l[i-1]\n",
    "        \n",
    "print(arr)    "
   ]
  },
  {
   "cell_type": "code",
   "execution_count": null,
   "id": "8e2c4c4b",
   "metadata": {},
   "outputs": [],
   "source": [
    "n = int(input())\n",
    "arr = [int(s) for s in input().split()]\n",
    "\n",
    "l = arr[:]\n",
    "l.append(l[n-1])\n",
    "\n",
    "for i in range(n):\n",
    "    if i%2 == 0:\n",
    "        arr[i] = l[i+1]\n",
    "    elif i%2 == 1:\n",
    "        arr[i] = l[i-1]\n",
    "        \n",
    "print(l)       \n",
    "print(arr)"
   ]
  },
  {
   "cell_type": "code",
   "execution_count": 14,
   "id": "a4cbabe0",
   "metadata": {},
   "outputs": [
    {
     "data": {
      "text/plain": [
       "[2, 1, 4, 3, 6, 5, 8, 7]"
      ]
     },
     "execution_count": 14,
     "metadata": {},
     "output_type": "execute_result"
    }
   ],
   "source": [
    "def swapAlternate(arr, n) :\n",
    "    \n",
    "    l = arr[:]\n",
    "    l.append(l[n-1])\n",
    "\n",
    "    for i in range(n):\n",
    "        if i%2 == 0:\n",
    "            arr[i] = l[i+1]\n",
    "        elif i%2 == 1:\n",
    "            arr[i] = l[i-1]\n",
    "    return arr\n",
    "\n",
    "swapAlternate([1,2,3,4,5,6,7,8],8)"
   ]
  },
  {
   "cell_type": "code",
   "execution_count": 15,
   "id": "041f1a3c",
   "metadata": {},
   "outputs": [
    {
     "name": "stdout",
     "output_type": "stream",
     "text": [
      "1\n",
      "2 3 4\n",
      "2 3 4\n",
      "4 5 6\n",
      "9 15 \n"
     ]
    }
   ],
   "source": [
    "def rowWiseSum(mat, nRows, mCols):\n",
    "    \n",
    "    for row in mat:\n",
    "        sum_row = 0\n",
    "        for j in row:\n",
    "            sum_row += j\n",
    "        print(sum_row, end = ' ')\n",
    "\n",
    "\n",
    "\n",
    "def take2DInput() :\n",
    "    li = input().split(\" \")\n",
    "    nRows = int(li[0])\n",
    "    mCols = int(li[1])\n",
    "    \n",
    "    if nRows == 0 :\n",
    "        return list(), 0, 0\n",
    "    \n",
    "    mat = [[int(j) for j in input().split()] for row in range(nRows)]\n",
    "    return mat, nRows, mCols\n",
    "\n",
    "\n",
    "#main\n",
    "t = int(input())\n",
    "\n",
    "while t > 0 :\n",
    "\n",
    "    mat, nRows, mCols = take2DInput()\n",
    "    rowWiseSum(mat, nRows, mCols)\n",
    "    print()\n",
    "\n",
    "    t -= 1\n",
    "    "
   ]
  },
  {
   "cell_type": "code",
   "execution_count": 23,
   "id": "44570754",
   "metadata": {},
   "outputs": [
    {
     "name": "stdout",
     "output_type": "stream",
     "text": [
      "4\n",
      "3\n",
      "2 3 4 \n",
      "3 4 6\n",
      "7 8 9\n",
      "2 9 6\n",
      "[[2, 3, 4], [3, 4, 6], [7, 8, 9], [2, 9, 6]]\n",
      "2 3 7 2 \n",
      "9 8 4 3 \n",
      "4 6 9 6 \n"
     ]
    }
   ],
   "source": [
    "m_rows = int(input())\n",
    "n = int(input())\n",
    "l = [[int(j) for j in input().split()] for i in range(m_rows)]\n",
    "print(l)\n",
    "\n",
    "for j in range(n):\n",
    "    \n",
    "    for i in range(m_rows):\n",
    "        if j%2 == 0:\n",
    "            print(l[i][j], end = ' ')\n",
    "        else:\n",
    "            print(l[(m_rows-1)-i][j], end = ' ')\n",
    "    print()\n"
   ]
  },
  {
   "cell_type": "code",
   "execution_count": 11,
   "id": "9ce9092e",
   "metadata": {},
   "outputs": [
    {
     "name": "stdout",
     "output_type": "stream",
     "text": [
      "whasupp this iss rellay nicee\n",
      "whasup this is relay nice\n"
     ]
    }
   ],
   "source": [
    "def removeConsecutiveDuplicates(string) :\n",
    "\t# Your code goes here\n",
    "    s = ''\n",
    "    for pos,val in enumerate(string):\n",
    "\n",
    "        if pos!=0:\n",
    "            if string[pos] == string[pos-1]:\n",
    "                s = s + ''\n",
    "            else:\n",
    "                s = s + string[pos]\n",
    "        else:\n",
    "            s = s + string[pos]\n",
    "            \n",
    "    return s\n",
    "\n",
    "\n",
    "string = input()\n",
    "\n",
    "ans = removeConsecutiveDuplicates(string)\n",
    "\n",
    "print(ans)\n",
    "        "
   ]
  },
  {
   "cell_type": "code",
   "execution_count": 3,
   "id": "a33026c4",
   "metadata": {},
   "outputs": [
    {
     "name": "stdout",
     "output_type": "stream",
     "text": [
      "world hello\n",
      "dlrow olleh\n"
     ]
    }
   ],
   "source": [
    "string = input()\n",
    "\n",
    "splt_strng = string.split()\n",
    "l = []\n",
    "\n",
    "for word in splt_strng:\n",
    "    rev_word = word[::-1]\n",
    "    l.append(rev_word)\n",
    "    \n",
    "rslt = \" \".join(l)\n",
    "\n",
    "print(rslt)"
   ]
  },
  {
   "cell_type": "code",
   "execution_count": 6,
   "id": "a5ddedce",
   "metadata": {},
   "outputs": [
    {
     "name": "stdout",
     "output_type": "stream",
     "text": [
      "hello world\n",
      "h e l o   w r d \n",
      "[1, 1, 3, 2, 1, 1, 1, 1]\n"
     ]
    }
   ],
   "source": [
    "def removeDuplicate(str):\n",
    "    t = \"\"\n",
    "    for i in str:\n",
    "        if(i in t):\n",
    "            continue\n",
    "        else:\n",
    "            t=t+i\n",
    "    return t\n",
    "\n",
    "string = input()\n",
    "s = removeDuplicate(string)\n",
    "l = []\n",
    "for letr in s:\n",
    "    c = string.count(letr)\n",
    "    l.append(c)\n",
    "      \n",
    "    if c <= max(l):\n",
    "        print(letr, end=\" \")\n",
    "        \n",
    "print()\n",
    "print(l)"
   ]
  },
  {
   "cell_type": "code",
   "execution_count": null,
   "id": "8f6930c6",
   "metadata": {},
   "outputs": [],
   "source": [
    "def removeDuplicate(str):\n",
    "    t = \"\"\n",
    "    for i in str:\n",
    "        if(i in t):\n",
    "            pass\n",
    "        else:\n",
    "            t=t+i\n",
    "    return t\n",
    "\n",
    "def highestOccuringChar(string) :\n",
    "\t\n",
    "    s = removeDuplicate(string)\n",
    "    l = []\n",
    "\n",
    "    for x in s:\n",
    "        c = string.count(x)\n",
    "        l.append(c)\n",
    "\n",
    "    ind = l.index(max(l))\n",
    "    \n",
    "    return (s[ind])\n",
    "\n",
    "string = input()\n",
    "print(highestOccuringChar(string))\n",
    "print(l)\n"
   ]
  },
  {
   "cell_type": "code",
   "execution_count": null,
   "id": "bd4a4d06",
   "metadata": {},
   "outputs": [],
   "source": [
    "def arrange(arr, n) :\n",
    "    #Your code goes here\n",
    "    l = []\n",
    "    for x in range(1,n+1):\n",
    "        if x%2 == 0:\n",
    "            l.append(x)\n",
    "        else:\n",
    "            arr.append(x)\n",
    "    arr.extend(l[::-1])\n",
    "    return arr\n",
    "\n",
    "def printList(arr, n) :\n",
    "    for i in range(n) :\n",
    "        print(arr[i], end = ' ')\n",
    "    print()\n",
    "    \n",
    "t = int(input())\n",
    "while t > 0 :\n",
    "    n = int(input())\n",
    "    arr = []\n",
    "    arrange(arr, n)\n",
    "    printList(arr, n)\n",
    "    t -= 1\n",
    "\n"
   ]
  },
  {
   "cell_type": "code",
   "execution_count": null,
   "id": "0714ff1b",
   "metadata": {},
   "outputs": [],
   "source": [
    "def printLeaders(A,n):\n",
    "    l = A[::-1]\n",
    "    max_from_left = l[0]\n",
    "    arr = [str(l[0])]\n",
    "    for i in range(n):\n",
    "        if l[i] > max_from_left:\n",
    "            arr.append(str(l[i]))\n",
    "            max_from_left = l[i]\n",
    "    final_out = ' '.join(arr[::-1])\n",
    "    print(final_out)\n",
    "n = int(input())\n",
    "A = [int(i) for i in input().split()]\n",
    "printLeaders(A,n)            \n"
   ]
  },
  {
   "cell_type": "code",
   "execution_count": null,
   "id": "d5e261f1",
   "metadata": {},
   "outputs": [],
   "source": [
    "def printLeaders(arr,n):\n",
    "    max_from_right = arr[-1]\n",
    "    print(max_from_right,end = ' ')\n",
    "    for i in range(n-2,-1,-1):\n",
    "        if arr[i] > max_from_right:\n",
    "            print(arr[i],end = ' ')\n",
    "            max_from_right = arr[i]\n",
    "n = int(input())\n",
    "A = [int(i) for i in input().split()]\n",
    "printLeaders(A,n) \n"
   ]
  },
  {
   "cell_type": "code",
   "execution_count": 5,
   "id": "8de0c38e",
   "metadata": {},
   "outputs": [
    {
     "name": "stdout",
     "output_type": "stream",
     "text": [
      "6\n",
      "1 5 10 15 20 25\n",
      "5\n",
      "2 4 5 9 15\n",
      "81\n"
     ]
    }
   ],
   "source": [
    "def maxPathSum(ar1, ar2, m, n):\n",
    "\n",
    "    i, j = 0, 0\n",
    "    result, sum1, sum2 = 0, 0, 0\n",
    "    while (i < m and j < n):\n",
    "        if ar1[i] < ar2[j]:\n",
    "            sum1 += ar1[i]\n",
    "            i += 1\n",
    "        elif ar1[i] > ar2[j]:\n",
    "            sum2 += ar2[j]\n",
    "            j += 1\n",
    "        else:\n",
    "            result += max(sum1, sum2) +ar1[i]\n",
    "            #update sum1 and sum2 to be considered fresh for next elements\n",
    "            sum1 = 0\n",
    "            sum2 = 0\n",
    "            #update i and j to move to next element in each array\n",
    "            i +=1\n",
    "            j +=1\n",
    "            \n",
    "    while i < m:\n",
    "        sum1 += ar1[i]\n",
    "        i += 1\n",
    "\n",
    "    while j < n:\n",
    "        sum2 += ar2[j]\n",
    "        j += 1\n",
    "\n",
    "    result += max(sum1, sum2)\n",
    "    return result\n",
    "\n",
    "m = int(input())\n",
    "ar1 = [int(i) for i in input().split()]\n",
    "n = int(input())\n",
    "ar2 = [int(j) for j in input().split()]\n",
    "\n",
    "\n",
    " \n",
    "# Function call\n",
    "print (maxPathSum(ar1, ar2, m, n))"
   ]
  },
  {
   "cell_type": "code",
   "execution_count": 3,
   "id": "26062df1",
   "metadata": {},
   "outputs": [
    {
     "name": "stdout",
     "output_type": "stream",
     "text": [
      "6\n",
      "1 5 10 15 20 25\n",
      "5\n",
      "2 4 5 9 15\n",
      "81\n"
     ]
    }
   ],
   "source": [
    "def MaximizeSum(list1,list2):\n",
    "    global n1 ,n2 ,sum1, sum2\n",
    "    \n",
    "    for i in list2:\n",
    "        if i not in list1:\n",
    "            sum1 = sum1 + i\n",
    "        elif i in list1:\n",
    "            sum1 = sum1 + i\n",
    "            m = list1.index(i)\n",
    "            del list1[:m+1]\n",
    "            (list1,list2) = (list2,list1)\n",
    "            MaximizeSum(list1,list2)\n",
    "    for j in list1:\n",
    "        if j not in list2:\n",
    "            sum2 = sum2 + j\n",
    "        elif j in list2:\n",
    "            sum2 = sum2 + j\n",
    "            m = list2.index(j)\n",
    "            del list2[:m+1]\n",
    "            (list2,list1) = (list1,list2)\n",
    "            MaximizeSum(list2,list1)\n",
    "            \n",
    "    return max(sum1,sum2)\n",
    "\n",
    "n1 = int(input())\n",
    "l1 = [int(i) for i in input().split()]\n",
    "n2 = int(input())\n",
    "l2 = [int(j) for j in input().split()]\n",
    "sum1 = 0\n",
    "sum2 = 0\n",
    "print(MaximizeSum(l1,l2))"
   ]
  },
  {
   "cell_type": "code",
   "execution_count": 5,
   "id": "ca62d6e8",
   "metadata": {},
   "outputs": [
    {
     "name": "stdout",
     "output_type": "stream",
     "text": [
      "1  \n",
      "7719477 \n",
      "1\n",
      "7369117\n",
      "7369117\n"
     ]
    }
   ],
   "source": [
    "def list_rindex(lst, item):\n",
    "    \"\"\"\n",
    "    Find first place item occurs in list, but starting at end of list.\n",
    "    Return index of item in list, or -1 if item not found in the list.\n",
    "    \"\"\"\n",
    "    i_max = len(lst)\n",
    "    i_limit = -i_max\n",
    "    i = -1\n",
    "    while i > i_limit:\n",
    "        if lst[i] == item:\n",
    "            return i_max + i\n",
    "        i -= 1\n",
    "    return -1\n",
    "\n",
    "def MaximizeSum(list1,list2):\n",
    "    global n1,n2,sum\n",
    "    \n",
    "    for i in list2:\n",
    "        if i not in list1:\n",
    "            sum = sum + i\n",
    "        elif i in list1:\n",
    "            sum = sum + i\n",
    "            m = list_rindex(list1,i)\n",
    "            del list1[:m+1]\n",
    "            (list1,list2) = (list2,list1)\n",
    "            MaximizeSum(list1,list2)\n",
    "    return sum\n",
    "\n",
    "n1 = int(input())\n",
    "l1 = [int(i) for i in input().split()]\n",
    "n2 = int(input())\n",
    "l2 = [int(j) for j in input().split()]\n",
    "sum = 0\n",
    "print(MaximizeSum(l1,l2))\n",
    "\n"
   ]
  },
  {
   "cell_type": "code",
   "execution_count": 1,
   "id": "5548fec7",
   "metadata": {},
   "outputs": [
    {
     "name": "stdout",
     "output_type": "stream",
     "text": [
      "6\n",
      "1 5 10 15 20 25\n",
      "5\n",
      "2 4 5 9 15\n",
      "81\n"
     ]
    }
   ],
   "source": [
    "m=int(input())\n",
    "ar1=[int(i) for i in input().strip().split()]\n",
    "n=int(input())\n",
    "ar2=[int(j) for j in input().strip().split()]\n",
    "i=0\n",
    "j=0\n",
    "result=0\n",
    "sum1=0\n",
    "sum2=0\n",
    "while (i<m and j<n):\n",
    "    if ar1[i]<ar2[j]:\n",
    "        sum1+=ar1[i]\n",
    "        i+=1\n",
    "    elif ar1[i]>ar2[j]:\n",
    "        sum2+=ar2[j]\n",
    "        j+=1\n",
    "    else:\n",
    "        result+=max(sum1,sum2)\n",
    "        sum1,sum2=0,0\n",
    "        result+=ar1[i]\n",
    "        i+=1\n",
    "        j+=1\n",
    "while i<m:\n",
    "    sum1+=ar1[i]\n",
    "    i+=1\n",
    "while j<n:\n",
    "    sum2+=ar2[j]\n",
    "    j+=1\n",
    "result+=max(sum1,sum2)\n",
    "print(result)"
   ]
  },
  {
   "cell_type": "code",
   "execution_count": 81,
   "id": "7b86ff89",
   "metadata": {},
   "outputs": [
    {
     "name": "stdout",
     "output_type": "stream",
     "text": [
      "0\n",
      "0\n",
      "row 0 -2147483648\n"
     ]
    }
   ],
   "source": [
    "def findLargest(arr, nRows, mCols):\n",
    "    #Your code goes here\n",
    "    def get_key_from_value(d, val):\n",
    "        keys = [k for k,v in d.items() if v == val]\n",
    "        if keys:\n",
    "            return keys[0]\n",
    "        return None\n",
    "    \n",
    "    row_sum = {}\n",
    "    col_sum = {}\n",
    "    #Row Sum For loop\n",
    "    for i in range(nRows):\n",
    "        sum_r = 0\n",
    "        for j in range(mCols):\n",
    "            sum_r += arr[i][j]\n",
    "        key = i\n",
    "        value = sum_r\n",
    "        row_sum[key] = value\n",
    "\n",
    "    #Col Sum For loop\n",
    "    for j in range(mCols):\n",
    "        sum_c = 0\n",
    "        for i in range(nRows):\n",
    "            sum_c += arr[i][j]\n",
    "        key = j\n",
    "        value = sum_c\n",
    "        col_sum[key] = value\n",
    "\n",
    "    if row_sum != {} and col_sum != {}:\n",
    "        max_rowvalue = max(row_sum.values())\n",
    "        max_colvalue = max(col_sum.values())\n",
    "    \n",
    "        key_row = get_key_from_value(row_sum,max_rowvalue)\n",
    "        key_col = get_key_from_value(col_sum,max_colvalue)\n",
    "    \n",
    "        if max_rowvalue >= max_colvalue:\n",
    "            print('row {} {}'.format(key_row,max_rowvalue))\n",
    "        elif max_colvalue > max_rowvalue:\n",
    "            print('column {} {}'.format(key_col,max_colvalue))\n",
    "    else:\n",
    "        return print('row 0 -2147483648')\n",
    "    \n",
    "nRows = int(input())\n",
    "mCols = int(input())\n",
    "arr = [[int(j) for j in input().split()] for i in range(nRows)]\n",
    "findLargest(arr,nRows,mCols)"
   ]
  },
  {
   "cell_type": "code",
   "execution_count": 3,
   "id": "a6f117cd",
   "metadata": {},
   "outputs": [
    {
     "name": "stdout",
     "output_type": "stream",
     "text": [
      "1 2 3 4 8 12 16 15 14 13 9 5 6 7 11 10 "
     ]
    }
   ],
   "source": [
    " \n",
    "def spiralPrint(mat,nRows,mCols):\n",
    "    k = 0\n",
    "    l = 0\n",
    "    \n",
    "    while (k < nRows and l < mCols):\n",
    "        # Print the first row from\n",
    "        # the remaining rows\n",
    "        for i in range(l, mCols):\n",
    "            print(mat[k][i], end=\" \")\n",
    "        k += 1\n",
    "        # Print the last column from\n",
    "        # the remaining columns\n",
    "        for i in range(k, nRows):\n",
    "            print(mat[i][mCols - 1], end=\" \")\n",
    "\n",
    "        mCols -= 1\n",
    "        # Print the last row from\n",
    "        # the remaining rows\n",
    "        if (k < nRows):\n",
    "            for i in range(mCols - 1, (l - 1), -1):\n",
    "                print(mat[nRows - 1][i], end=\" \")\n",
    "            nRows -= 1\n",
    "        # Print the first column from\n",
    "        # the remaining columns\n",
    "        if (l < mCols):\n",
    "            for i in range(nRows - 1, k - 1, -1):\n",
    "                print(mat[i][l], end=\" \")\n",
    "            l += 1\n",
    "            \n",
    "a = [[1, 2, 3, 4],\n",
    "     [5, 6, 7, 8],\n",
    "     [9, 10, 11, 12], \n",
    "     [13, 14, 15, 16]]\n",
    " \n",
    "R = 4\n",
    "C = 4\n",
    " \n",
    "# Function Call\n",
    "spiralPrint(a,R,C)\n",
    "            "
   ]
  }
 ],
 "metadata": {
  "kernelspec": {
   "display_name": "Python 3 (ipykernel)",
   "language": "python",
   "name": "python3"
  },
  "language_info": {
   "codemirror_mode": {
    "name": "ipython",
    "version": 3
   },
   "file_extension": ".py",
   "mimetype": "text/x-python",
   "name": "python",
   "nbconvert_exporter": "python",
   "pygments_lexer": "ipython3",
   "version": "3.9.12"
  }
 },
 "nbformat": 4,
 "nbformat_minor": 5
}
