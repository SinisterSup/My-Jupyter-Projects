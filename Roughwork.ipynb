{
 "cells": [
  {
   "cell_type": "code",
   "execution_count": 57,
   "id": "0bf08d3d",
   "metadata": {},
   "outputs": [
    {
     "name": "stdout",
     "output_type": "stream",
     "text": [
      "[[ 4  8 16]\n",
      " [19  3  4]\n",
      " [15 13  6]]\n",
      "[[15 14]\n",
      " [19 17]\n",
      " [ 7  8]]\n"
     ]
    }
   ],
   "source": [
    "import numpy as np\n",
    "a = np.random.randint(1,20,(3,3))\n",
    "b = np.random.randint(1,20,(3,2))\n",
    "\n",
    "print(a)\n",
    "print(b)\n",
    "\n"
   ]
  },
  {
   "cell_type": "code",
   "execution_count": 61,
   "id": "566aded0",
   "metadata": {},
   "outputs": [
    {
     "name": "stdout",
     "output_type": "stream",
     "text": [
      "[[ 4  8 16]\n",
      " [19  3  4]\n",
      " [15 13  6]]\n",
      "[ True  True]\n"
     ]
    }
   ],
   "source": [
    "print(a)\n",
    "c = a[:2,1]<10\n",
    "print()"
   ]
  },
  {
   "cell_type": "code",
   "execution_count": 85,
   "id": "04bac19b",
   "metadata": {},
   "outputs": [
    {
     "name": "stdout",
     "output_type": "stream",
     "text": [
      "[[21 16 11  6]\n",
      " [20 15 10  5]\n",
      " [19 14  9  4]\n",
      " [18 13  8  3]\n",
      " [17 12  7  2]]\n",
      "[[ 6 11 16 21]\n",
      " [ 5 10 15 20]\n",
      " [ 4  9 14 19]\n",
      " [ 3  8 13 18]\n",
      " [ 2  7 12 17]]\n",
      "[[ 6  5  4  3  2]\n",
      " [11 10  9  8  7]\n",
      " [16 15 14 13 12]\n",
      " [21 20 19 18 17]]\n"
     ]
    }
   ],
   "source": [
    "import numpy as np\n",
    "arr = np.array( [[21, 20, 19, 18, 17],\n",
    "                 [16, 15, 14, 13, 12],\n",
    "                 [11, 10,  9,  8,  7],\n",
    "                 [ 6,  5,  4,  3,  2]], dtype = int)\n",
    "\n",
    "trans = np.transpose(arr)\n",
    "print(trans)\n",
    "c = np.sort(trans)\n",
    "print(c)\n",
    "fnl = np.transpose(c)\n",
    "print(fnl)"
   ]
  },
  {
   "cell_type": "code",
   "execution_count": 202,
   "id": "83b4c147",
   "metadata": {},
   "outputs": [
    {
     "name": "stdout",
     "output_type": "stream",
     "text": [
      "[[9 2 9]\n",
      " [5 6 2]\n",
      " [9 2 8]]\n",
      "[[5]\n",
      " [6]\n",
      " [3]\n",
      " [2]]\n"
     ]
    }
   ],
   "source": [
    "import numpy as np \n",
    "a = np.random.randint(1,10,(3,3))\n",
    "b = np.random.randint(1,10,(4,1))\n",
    "print(a)\n",
    "print(b)"
   ]
  },
  {
   "cell_type": "code",
   "execution_count": 95,
   "id": "ecc65a3e",
   "metadata": {},
   "outputs": [
    {
     "name": "stdout",
     "output_type": "stream",
     "text": [
      "[4 5 2]\n"
     ]
    }
   ],
   "source": [
    "c = np.random.randint(1,10,(3,))\n",
    "print(c)"
   ]
  },
  {
   "cell_type": "code",
   "execution_count": 167,
   "id": "c60da96d",
   "metadata": {},
   "outputs": [
    {
     "name": "stdout",
     "output_type": "stream",
     "text": [
      "[[ 9  5 11]\n",
      " [14  7  6]\n",
      " [14 17 16]]\n",
      "\n",
      "[[11  8 11]\n",
      " [13  7  3]\n",
      " [10 14 10]]\n",
      "\n",
      "[[ 6  7  4]\n",
      " [ 9 10  7]\n",
      " [12 13 10]]\n"
     ]
    }
   ],
   "source": [
    "x = a + b\n",
    "y = a + c\n",
    "z = b + c\n",
    "print(x)\n",
    "print()\n",
    "print(y)\n",
    "print()\n",
    "print(z)"
   ]
  },
  {
   "cell_type": "code",
   "execution_count": 207,
   "id": "e693ffa8",
   "metadata": {},
   "outputs": [
    {
     "name": "stdout",
     "output_type": "stream",
     "text": [
      "[[5]\n",
      " [6]\n",
      " [3]\n",
      " [2]]\n",
      "[[5 6 3 2 5]\n",
      " [6 3 2 5 6]]\n"
     ]
    }
   ],
   "source": [
    "print(b)\n",
    "h = np.resize(b,(2,5))\n",
    "print(h)"
   ]
  },
  {
   "cell_type": "code",
   "execution_count": 9,
   "id": "b440914e",
   "metadata": {},
   "outputs": [
    {
     "name": "stdout",
     "output_type": "stream",
     "text": [
      "[[[6 6 8 7 5]\n",
      "  [6 6 3 4 9]]\n",
      "\n",
      " [[4 6 1 7 8]\n",
      "  [2 1 8 1 5]]\n",
      "\n",
      " [[9 9 3 5 2]\n",
      "  [3 7 1 2 8]]]\n",
      "\n"
     ]
    }
   ],
   "source": [
    "import numpy as np\n",
    "a = np.random.randint(1,10,(3,2,5))\n",
    "print(a)\n",
    "print() \n",
    "\n"
   ]
  }
 ],
 "metadata": {
  "kernelspec": {
   "display_name": "Python 3 (ipykernel)",
   "language": "python",
   "name": "python3"
  },
  "language_info": {
   "codemirror_mode": {
    "name": "ipython",
    "version": 3
   },
   "file_extension": ".py",
   "mimetype": "text/x-python",
   "name": "python",
   "nbconvert_exporter": "python",
   "pygments_lexer": "ipython3",
   "version": "3.9.7"
  }
 },
 "nbformat": 4,
 "nbformat_minor": 5
}
