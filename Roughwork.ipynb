{
 "cells": [
  {
   "cell_type": "code",
   "execution_count": 11,
   "id": "319112df",
   "metadata": {},
   "outputs": [
    {
     "name": "stdout",
     "output_type": "stream",
     "text": [
      "courses\n",
      "TRAN~Transfiguration~1~2011-2012~Minerva McGonagall\n",
      "CHAR~Charms~1~2011-2012~Filius Flitwick\n",
      "students\n",
      "SLY2303~Stewart Ackerley\n",
      "SLY2305~Avery\n",
      "SLY2301~Hannah Abbott\n",
      "SLY2304~Bertram Aubrey\n",
      "SLY2302~Euan Abercrombie\n",
      "SLY2307~Marcus Belby\n",
      "grades\n",
      "TRAN~1~2011-2012~SLY2303~B\n",
      "CHAR~1~2011-2012~SLY2307~B\n",
      "CHAR~1~2011-2012~SLY2303~B\n",
      "TRAN~1~2011-2012~SLY2301~AB\n",
      "CHAR~1~2011-2012~SLY2305~BC\n",
      "TRAN~1~2011-2012~SLY2305~A\n",
      "CHAR~1~2011-2012~SLY2301~A\n",
      "CHAR~1~2011-2012~SLY2302~BC\n",
      "TRAN~1~2011-2012~SLY2302~B\n",
      "endofinput\n",
      "['TRAN', 'CHAR']\n",
      "{'SLY2303': 'Stewart Ackerley', 'SLY2305': 'Avery', 'SLY2301': 'Hannah Abbott', 'SLY2304': 'Bertram Aubrey', 'SLY2302': 'Euan Abercrombie', 'SLY2307': 'Marcus Belby'}\n",
      "{'SLY2303': ['B', 'B'], 'SLY2305': ['BC', 'A'], 'SLY2301': ['AB', 'A'], 'SLY2304': [], 'SLY2302': ['BC', 'B'], 'SLY2307': ['B']}\n",
      "SLY2301~Hannah Abbott~9.5\n",
      "SLY2302~Euan Abercrombie~7.5\n",
      "SLY2303~Stewart Ackerley~8.0\n",
      "SLY2304~Bertram Aubrey~0\n",
      "SLY2305~Avery~8.5\n",
      "SLY2307~Marcus Belby~8.0\n"
     ]
    }
   ],
   "source": [
    "def hogwarts_gpa():\n",
    "    \n",
    "    courses = []\n",
    "    student_details = {}\n",
    "    rollvsgrades = {}\n",
    "    while True:\n",
    "        s = input()\n",
    "        q = s.lower()\n",
    "        if q == 'courses':\n",
    "            d = 1\n",
    "        elif q == 'students':\n",
    "            d = 2\n",
    "        elif q == 'grades':\n",
    "            d = 3\n",
    "        elif q == 'endofinput':\n",
    "            break\n",
    "        \n",
    "        else:\n",
    "            listl = s.split('~')\n",
    "            if d == 1:\n",
    "                courses.append(listl[0])\n",
    "            elif d == 2:\n",
    "                roll_num = listl[0]\n",
    "                name = listl[1]\n",
    "                student_details[roll_num] = name\n",
    "                rollvsgrades[listl[0]] = []\n",
    "            elif d == 3:\n",
    "                roll_num = listl[-2]\n",
    "                grade = listl[-1]\n",
    "                rollvsgrades[roll_num].append(grade)\n",
    "                \n",
    "    grade_points = {'A':10, 'AB':9, 'B':8, 'BC':7, 'C':6, 'CD':5, 'D':4}\n",
    "    \n",
    "    for r,g in sorted(rollvsgrades.items()):\n",
    "        grades = []\n",
    "        for gAlpha in g:\n",
    "            x = grade_points[gAlpha]\n",
    "            grades.append(x)\n",
    "            n = len(grades) or 1\n",
    "        gpa = str(round(sum(grades)/n,2)) if grades else '0'\n",
    "        finl_gpa = \"~\".join([r,student_details[r],gpa])\n",
    "        print(finl_gpa)\n",
    "                \n",
    "hogwarts_gpa()"
   ]
  }
 ],
 "metadata": {
  "kernelspec": {
   "display_name": "Python 3 (ipykernel)",
   "language": "python",
   "name": "python3"
  },
  "language_info": {
   "codemirror_mode": {
    "name": "ipython",
    "version": 3
   },
   "file_extension": ".py",
   "mimetype": "text/x-python",
   "name": "python",
   "nbconvert_exporter": "python",
   "pygments_lexer": "ipython3",
   "version": "3.9.7"
  }
 },
 "nbformat": 4,
 "nbformat_minor": 5
}
