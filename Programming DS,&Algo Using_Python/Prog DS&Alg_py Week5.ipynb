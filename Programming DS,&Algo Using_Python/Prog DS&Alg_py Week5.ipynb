{
 "cells": [
  {
   "cell_type": "code",
   "execution_count": null,
   "id": "ba574fc3",
   "metadata": {},
   "outputs": [],
   "source": [
    "def hogwarts_gpa():\n",
    "    \n",
    "    courses = []\n",
    "    student_details = {}\n",
    "    rollvsgrades = {}\n",
    "    while True:\n",
    "        s = input()\n",
    "        q = s.lower()\n",
    "        if q == 'courses':\n",
    "            d = 1\n",
    "        elif q == 'students':\n",
    "            d = 2\n",
    "        elif q == 'grades':\n",
    "            d = 3\n",
    "        elif q == 'endofinput':\n",
    "            break\n",
    "        \n",
    "        else:\n",
    "            listl = s.split('~')\n",
    "            if d == 1:\n",
    "                courses.append(listl[0])\n",
    "            elif d == 2:\n",
    "                roll_num = listl[0]\n",
    "                name = listl[1]\n",
    "                student_details[roll_num] = name\n",
    "                rollvsgrades[listl[0]] = []\n",
    "            elif d == 3:\n",
    "                roll_num = listl[-2]\n",
    "                grade = listl[-1]\n",
    "                rollvsgrades[roll_num].append(grade)\n",
    "                \n",
    "    grade_points = {'A':10, 'AB':9, 'B':8, 'BC':7, 'C':6, 'CD':5, 'D':4}\n",
    "    \n",
    "    for r,g in sorted(rollvsgrades.items()):\n",
    "        grades = []\n",
    "        for gAlpha in g:\n",
    "            x = grade_points[gAlpha]\n",
    "            grades.append(x)\n",
    "            n = len(grades) or 1\n",
    "        gpa = str(round(sum(grades)/n,2)) if grades else '0'\n",
    "        finl_gpa = \"~\".join([r,student_details[r],gpa])\n",
    "        print(finl_gpa)\n",
    "                \n",
    "hogwarts_gpa()"
   ]
  }
 ],
 "metadata": {
  "kernelspec": {
   "display_name": "Python 3 (ipykernel)",
   "language": "python",
   "name": "python3"
  },
  "language_info": {
   "codemirror_mode": {
    "name": "ipython",
    "version": 3
   },
   "file_extension": ".py",
   "mimetype": "text/x-python",
   "name": "python",
   "nbconvert_exporter": "python",
   "pygments_lexer": "ipython3",
   "version": "3.9.7"
  }
 },
 "nbformat": 4,
 "nbformat_minor": 5
}
