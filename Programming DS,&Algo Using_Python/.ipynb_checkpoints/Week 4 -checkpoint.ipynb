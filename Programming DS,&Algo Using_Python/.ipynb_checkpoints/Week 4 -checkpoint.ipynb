{
 "cells": [
  {
   "cell_type": "markdown",
   "id": "b28c64a6",
   "metadata": {},
   "source": [
    "# Merge Sort"
   ]
  },
  {
   "cell_type": "markdown",
   "id": "1a0d7d78",
   "metadata": {},
   "source": [
    "### Step1 - Merging"
   ]
  },
  {
   "cell_type": "code",
   "execution_count": 11,
   "id": "15c468eb",
   "metadata": {},
   "outputs": [],
   "source": [
    "def merge(A,B):\n",
    "    (C,m,n) = ([],len(A),len(B))\n",
    "    (i,j) = (0,0)\n",
    "    \n",
    "    while i + j < m + n:\n",
    "        if i == m:\n",
    "            C.append(B[j])\n",
    "            j = j + 1\n",
    "        elif j == n:\n",
    "            C.append(A[i])\n",
    "            i = i + 1\n",
    "        elif A[i] <= B[j]:\n",
    "            C.append(A[i])\n",
    "            i = i + 1\n",
    "        elif A[i] > B[j]:\n",
    "            C.append(B[j])\n",
    "            j = j + 1\n",
    "    return(C)\n",
    "\n"
   ]
  },
  {
   "cell_type": "markdown",
   "id": "f237cc69",
   "metadata": {},
   "source": [
    "### Step2 - Sort and Merge Recursively"
   ]
  },
  {
   "cell_type": "code",
   "execution_count": 1,
   "id": "b7b115d5",
   "metadata": {},
   "outputs": [
    {
     "name": "stdout",
     "output_type": "stream",
     "text": [
      "43 32 22 78 63 57 91 13\n",
      "[13, 22, 32, 43, 57, 63, 78, 91]\n"
     ]
    }
   ],
   "source": [
    "#main merge function\n",
    "def mergesort(A,left,right):\n",
    "    \n",
    "    if right - left <= 1:\n",
    "        return(A[left:right])\n",
    "    if right - left > 1:\n",
    "        \n",
    "        mid = (left+right)//2\n",
    "        \n",
    "        L = mergesort(A,left,mid)\n",
    "        R = mergesort(A,mid,right)\n",
    "        \n",
    "        return(merge(L,R))\n",
    "    \n",
    "def merge(A,B):\n",
    "    (C,m,n) = ([],len(A),len(B))\n",
    "    (i,j) = (0,0)\n",
    "    \n",
    "    while i + j < m + n:\n",
    "        if i == m:\n",
    "            C.append(B[j])\n",
    "            j = j + 1\n",
    "        elif j == n:\n",
    "            C.append(A[i])\n",
    "            i = i + 1\n",
    "        elif A[i] <= B[j]:\n",
    "            C.append(A[i])\n",
    "            i = i + 1\n",
    "        elif A[i] > B[j]:\n",
    "            C.append(B[j])\n",
    "            j = j + 1\n",
    "    return(C)\n",
    "    \n",
    "A = [int(i) for i in input().split()]\n",
    "\n",
    "print(mergesort(A,0,len(A)))"
   ]
  },
  {
   "cell_type": "markdown",
   "id": "a56f46bc",
   "metadata": {},
   "source": [
    "# Quick Sort\n"
   ]
  },
  {
   "cell_type": "code",
   "execution_count": 8,
   "id": "f71586ed",
   "metadata": {},
   "outputs": [
    {
     "name": "stdout",
     "output_type": "stream",
     "text": [
      "43 32 22 78 63 57 91 13\n",
      "0\n",
      "None\n"
     ]
    }
   ],
   "source": [
    "def quicksort(A,l,r):\n",
    "    if r-l <= 0:\n",
    "        return ()\n",
    "    \n",
    "    p = A[l]\n",
    "    y_pntr = l+1\n",
    "    \n",
    "    for z_pntr in range(l+1,r):\n",
    "        if A[z_pntr] <= p:\n",
    "            (A[y_pntr],A[z_pntr]) = (A[z_pntr],A[y_pntr])\n",
    "            y_pntr = y_pntr + 1\n",
    "            \n",
    "    (p,A[y_pntr-1]) = (A[y_pntr-1],p)\n",
    "    \n",
    "    quicksort(A,l,y_pntr-1)\n",
    "    quicksort(A,y_pntr,r)\n",
    "    \n",
    "    \n",
    "A = [int(i) for i in input().split()]\n",
    "l = int(input())\n",
    "r = len(A)\n",
    "print(quicksort(A,l,r))\n",
    "    \n",
    "    \n",
    "    \n",
    "    "
   ]
  },
  {
   "cell_type": "code",
   "execution_count": 7,
   "id": "a75b5a59",
   "metadata": {
    "scrolled": true
   },
   "outputs": [
    {
     "name": "stdout",
     "output_type": "stream",
     "text": [
      "43 32 22 78 63 57 91 13\n",
      "0\n",
      "None\n"
     ]
    }
   ],
   "source": [
    "import time\n",
    "import threading\n",
    "\n",
    "def Quicksort(A,l,r): # Sort A[l:r]\n",
    "    if r - l <= 1: # Base case\n",
    "        return ()\n",
    "\n",
    "# Partition with respect to pivot, a[l]\n",
    "    yellow = l+1\n",
    "\n",
    "    for green in range(l+1,r):\n",
    "        if A[green] <= A[l]:\n",
    "            (A[yellow],A[green]) = (A[green],A[yellow])\n",
    "            yellow = yellow + 1\n",
    "\n",
    "# Move pivot into place\n",
    "    (A[l],A[yellow-1]) = (A[yellow-1],A[l])\n",
    "\n",
    "    Quicksort(A,l,yellow-1) # Recursive calls\n",
    "    Quicksort(A,yellow,r)\n",
    "    \n",
    "    p1 = threading.Thread(target = Quicksort, args = [A,l,yellow-1])\n",
    "    p2 = threading.Thread(target = Quicksort, args = [A,yellow,r])\n",
    "    \n",
    "    p1.start()\n",
    "    p2.start()\n",
    "    \n",
    "    p1.join()\n",
    "    p2.join()\n",
    "\n",
    "    \n",
    "A = [int(i) for i in input().split()]\n",
    "l = int(input())\n",
    "r = len(A)\n",
    "print(Quicksort(A,l,r))\n",
    "    "
   ]
  },
  {
   "cell_type": "code",
   "execution_count": 11,
   "id": "7f7baf82",
   "metadata": {},
   "outputs": [
    {
     "name": "stdout",
     "output_type": "stream",
     "text": [
      "43 32 22 78 63 57 91 13\n",
      "0\n",
      "None\n"
     ]
    }
   ],
   "source": [
    "import time\n",
    "import multiprocessing\n",
    "\n",
    "def Quicksort(A,l,r): # Sort A[l:r]\n",
    "    if r - l <= 1: # Base case\n",
    "        return ()\n",
    "\n",
    "# Partition with respect to pivot, a[l]\n",
    "    yellow = l+1\n",
    "\n",
    "    for green in range(l+1,r):\n",
    "        if A[green] <= A[l]:\n",
    "            (A[yellow],A[green]) = (A[green],A[yellow])\n",
    "            yellow = yellow + 1\n",
    "\n",
    "# Move pivot into place\n",
    "    (A[l],A[yellow-1]) = (A[yellow-1],A[l])\n",
    "\n",
    "    Quicksort(A,l,yellow-1) # Recursive calls\n",
    "    Quicksort(A,yellow,r)\n",
    "    \n",
    "    p1 = multiprocessing.Process(target = Quicksort, args = [A,l,yellow-1])\n",
    "    p2 = multiprocessing.Process(target = Quicksort, args = [A,yellow,r])\n",
    "    \n",
    "    if __name__ == \"__main__\":\n",
    "        p1.start()\n",
    "        p2.start()\n",
    "        p1.join()\n",
    "        p2.join()\n",
    "\n",
    "    \n",
    "A = [int(i) for i in input().split()]\n",
    "l = int(input())\n",
    "r = len(A)\n",
    "print(Quicksort(A,l,r))"
   ]
  }
 ],
 "metadata": {
  "kernelspec": {
   "display_name": "Python 3 (ipykernel)",
   "language": "python",
   "name": "python3"
  },
  "language_info": {
   "codemirror_mode": {
    "name": "ipython",
    "version": 3
   },
   "file_extension": ".py",
   "mimetype": "text/x-python",
   "name": "python",
   "nbconvert_exporter": "python",
   "pygments_lexer": "ipython3",
   "version": "3.9.7"
  }
 },
 "nbformat": 4,
 "nbformat_minor": 5
}
