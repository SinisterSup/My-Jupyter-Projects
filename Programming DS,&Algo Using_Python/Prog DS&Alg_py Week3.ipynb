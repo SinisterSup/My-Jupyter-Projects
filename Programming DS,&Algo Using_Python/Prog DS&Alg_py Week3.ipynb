{
 "cells": [
  {
   "cell_type": "markdown",
   "id": "11b06653",
   "metadata": {},
   "source": [
    "# Week 3 Programming Assignment\n",
    "\n",
    "## 1. remdup(l) Function "
   ]
  },
  {
   "cell_type": "code",
   "execution_count": 3,
   "id": "a92b8d38",
   "metadata": {},
   "outputs": [
    {
     "name": "stdout",
     "output_type": "stream",
     "text": [
      "[3, 1, 5]\n",
      "[3, 5, 7, 10]\n"
     ]
    }
   ],
   "source": [
    "def remdup(l):\n",
    "    \n",
    "    lst = []\n",
    "    for x in l:\n",
    "        if x not in lst:\n",
    "            lst.append(x)\n",
    "    return lst\n",
    "\n",
    "print(remdup([3,1,3,5]))\n",
    "print(remdup([3,5,7,5,3,7,10]))\n",
    "    "
   ]
  },
  {
   "cell_type": "markdown",
   "id": "ceea5e97",
   "metadata": {},
   "source": [
    "## 2. sumsquare(l) Function"
   ]
  },
  {
   "cell_type": "code",
   "execution_count": 42,
   "id": "46fc272f",
   "metadata": {},
   "outputs": [
    {
     "name": "stdout",
     "output_type": "stream",
     "text": [
      "[59, 4]\n",
      "[0, 56]\n",
      "[35, 0]\n"
     ]
    }
   ],
   "source": [
    "def sumsquare(l):\n",
    "    \n",
    "    lst = []\n",
    "    sum_even = 0\n",
    "    sum_odd = 0\n",
    "    \n",
    "    for x in l:\n",
    "        if x%2 == 0:\n",
    "            sum_even = sum_even + x**2\n",
    "        else:\n",
    "            sum_odd = sum_odd + x**2\n",
    "    \n",
    "        lst.extend([sum_odd,sum_even])\n",
    "        \n",
    "    return lst[-2:]\n",
    "\n",
    "print(sumsquare([-1,-2,3,7]))\n",
    "print(sumsquare([2,4,6]))\n",
    "print(sumsquare([1,3,5]))"
   ]
  },
  {
   "cell_type": "markdown",
   "id": "2404c2ed",
   "metadata": {},
   "source": [
    "## Transpose(m) Function"
   ]
  },
  {
   "cell_type": "code",
   "execution_count": 64,
   "id": "2ceebedf",
   "metadata": {},
   "outputs": [
    {
     "name": "stdout",
     "output_type": "stream",
     "text": [
      "[[1, 2, 3]]\n",
      "[[1, 4], [2, 5], [3, 6]]\n"
     ]
    }
   ],
   "source": [
    "def transpose(m):\n",
    "    nest_lst = []\n",
    "    \n",
    "    for j in range(len(m[0])):\n",
    "        lst = []\n",
    "        for i in range(len(m)):\n",
    "            lst.append(m[i][j])\n",
    "        nest_lst.append(lst)\n",
    "    return nest_lst\n",
    "\n",
    "print(transpose([[1],[2],[3]]))\n",
    "print(transpose([[1,2,3],[4,5,6]]))"
   ]
  }
 ],
 "metadata": {
  "kernelspec": {
   "display_name": "Python 3 (ipykernel)",
   "language": "python",
   "name": "python3"
  },
  "language_info": {
   "codemirror_mode": {
    "name": "ipython",
    "version": 3
   },
   "file_extension": ".py",
   "mimetype": "text/x-python",
   "name": "python",
   "nbconvert_exporter": "python",
   "pygments_lexer": "ipython3",
   "version": "3.9.7"
  }
 },
 "nbformat": 4,
 "nbformat_minor": 5
}
