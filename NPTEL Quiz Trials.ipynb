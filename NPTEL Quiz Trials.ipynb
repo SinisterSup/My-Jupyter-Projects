{
 "cells": [
  {
   "cell_type": "code",
   "execution_count": 1,
   "id": "2994e8e0",
   "metadata": {},
   "outputs": [
    {
     "data": {
      "text/plain": [
       "258"
      ]
     },
     "execution_count": 1,
     "metadata": {},
     "output_type": "execute_result"
    }
   ],
   "source": [
    "def mystery(l,v):\n",
    "    if len(l) == 0:\n",
    "        return (v)\n",
    "    else:\n",
    "        return (mystery(l[:-1],l[-1]+v))\n",
    "\n",
    "mystery([22,14,19,65,82,55],1)\n"
   ]
  },
  {
   "cell_type": "code",
   "execution_count": 2,
   "id": "2f963de3",
   "metadata": {
    "scrolled": true
   },
   "outputs": [
    {
     "data": {
      "text/plain": [
       "[(2, 4, 5), (3, 3, 5), (3, 4, 5), (3, 4, 6)]"
      ]
     },
     "execution_count": 2,
     "metadata": {},
     "output_type": "execute_result"
    }
   ],
   "source": [
    "triples = [ (x,y,z) for x in range(2,4) for y in range(2,5) for z in range(5,7) if 2*x*y > 3*z ]\n",
    "triples"
   ]
  },
  {
   "cell_type": "code",
   "execution_count": 3,
   "id": "3230a52f",
   "metadata": {},
   "outputs": [
    {
     "name": "stdout",
     "output_type": "stream",
     "text": [
      "False\n"
     ]
    }
   ],
   "source": [
    "def sqr_lst_til(num):\n",
    "    sqr_list = []\n",
    "    for x in range(num+1):\n",
    "        sqr = x**2\n",
    "        if sqr <= num:\n",
    "            sqr_list.append(sqr)\n",
    "        else:\n",
    "            break\n",
    "    return sqr_list\n",
    "               \n",
    "\n",
    "def sumofsquares(n):\n",
    "    \n",
    "    for i in sqr_lst_til(n):\n",
    "        for j in sqr_lst_til(n):\n",
    "            if n == i+j:\n",
    "              \treturn True\n",
    "    else:\n",
    "        return False\n",
    "    \n",
    "    \n",
    "\t\n",
    "print(sumofsquares(11))"
   ]
  },
  {
   "cell_type": "code",
   "execution_count": 6,
   "id": "ed1b476a",
   "metadata": {},
   "outputs": [
    {
     "name": "stdout",
     "output_type": "stream",
     "text": [
      "True\n",
      "False\n"
     ]
    }
   ],
   "source": [
    "def subsequence(l1, l2):\n",
    "    count = 0\n",
    "    for i in l1:\n",
    "        if i in l2:\n",
    "            l2.remove(i)\n",
    "            count += 1\n",
    "    if count == len(l1):\n",
    "        return(True)\n",
    "    else:\n",
    "        return(False)\n",
    "    \n",
    "print(subsequence([2,2,5],[2,2,3,4,5]))\n",
    "print(subsequence([2,4,4],[2,2,3,4,5]))"
   ]
  },
  {
   "cell_type": "code",
   "execution_count": 11,
   "id": "ff713315",
   "metadata": {
    "scrolled": true
   },
   "outputs": [
    {
     "name": "stdout",
     "output_type": "stream",
     "text": [
      "the\n",
      "\"Spot the mistake\n",
      "in the following argument\",\n",
      "Jack challenged\n",
      "1+(-1+1)+(-1+1)+... = (1+ -1)+(1+ -1)+...\n",
      "so therefore,\n",
      "1 = 0\n",
      "\n",
      "\"Spot the mistake\n",
      "in the following argument\",\n",
      "so therefore,\n"
     ]
    }
   ],
   "source": [
    "first = input()\n",
    "copy = first\n",
    "l =[]\n",
    "while first != \"\":\n",
    "    first = input()\n",
    "    l.append(first)\n",
    "for i in range(0,len(l)):\n",
    "    if l[i].find(copy) != -1:\n",
    "        print(l[i])\n",
    "\n",
    "        "
   ]
  },
  {
   "cell_type": "code",
   "execution_count": 13,
   "id": "0703d0fb",
   "metadata": {},
   "outputs": [
    {
     "ename": "ValueError",
     "evalue": "too many values to unpack (expected 2)",
     "output_type": "error",
     "traceback": [
      "\u001b[1;31m---------------------------------------------------------------------------\u001b[0m",
      "\u001b[1;31mValueError\u001b[0m                                Traceback (most recent call last)",
      "\u001b[1;32m~\\AppData\\Local\\Temp/ipykernel_9148/2055729108.py\u001b[0m in \u001b[0;36m<module>\u001b[1;34m\u001b[0m\n\u001b[0;32m     11\u001b[0m \u001b[1;33m\u001b[0m\u001b[0m\n\u001b[0;32m     12\u001b[0m \u001b[1;33m\u001b[0m\u001b[0m\n\u001b[1;32m---> 13\u001b[1;33m \u001b[0mprint\u001b[0m\u001b[1;33m(\u001b[0m\u001b[0mmaxaggregate\u001b[0m\u001b[1;33m(\u001b[0m\u001b[1;33m[\u001b[0m\u001b[1;33m(\u001b[0m\u001b[1;34m'Kohli'\u001b[0m\u001b[1;33m,\u001b[0m\u001b[1;36m73\u001b[0m\u001b[1;33m)\u001b[0m\u001b[1;33m,\u001b[0m\u001b[1;33m(\u001b[0m\u001b[1;34m'Ashwin'\u001b[0m\u001b[1;33m,\u001b[0m\u001b[1;36m33\u001b[0m\u001b[1;33m)\u001b[0m\u001b[1;33m,\u001b[0m\u001b[1;33m(\u001b[0m\u001b[1;34m'Kohli'\u001b[0m\u001b[1;33m,\u001b[0m\u001b[1;36m7\u001b[0m\u001b[1;33m)\u001b[0m\u001b[1;33m,\u001b[0m\u001b[1;33m(\u001b[0m\u001b[1;34m'Pujara'\u001b[0m\u001b[1;33m,\u001b[0m\u001b[1;36m122\u001b[0m\u001b[1;33m)\u001b[0m\u001b[1;33m,\u001b[0m\u001b[1;33m(\u001b[0m\u001b[1;34m'Ashwin'\u001b[0m\u001b[1;33m,\u001b[0m\u001b[1;36m90\u001b[0m\u001b[1;33m)\u001b[0m\u001b[1;33m]\u001b[0m\u001b[1;33m)\u001b[0m\u001b[1;33m)\u001b[0m\u001b[1;33m\u001b[0m\u001b[1;33m\u001b[0m\u001b[0m\n\u001b[0m",
      "\u001b[1;32m~\\AppData\\Local\\Temp/ipykernel_9148/2055729108.py\u001b[0m in \u001b[0;36mmaxaggregate\u001b[1;34m(l)\u001b[0m\n\u001b[0;32m      2\u001b[0m     \u001b[0magg\u001b[0m \u001b[1;33m=\u001b[0m \u001b[1;33m{\u001b[0m\u001b[1;33m}\u001b[0m\u001b[1;33m\u001b[0m\u001b[1;33m\u001b[0m\u001b[0m\n\u001b[0;32m      3\u001b[0m     \u001b[1;32mfor\u001b[0m \u001b[0mi\u001b[0m \u001b[1;32min\u001b[0m \u001b[0mrange\u001b[0m\u001b[1;33m(\u001b[0m\u001b[1;36m0\u001b[0m\u001b[1;33m,\u001b[0m\u001b[0mlen\u001b[0m\u001b[1;33m(\u001b[0m\u001b[0ml\u001b[0m\u001b[1;33m)\u001b[0m\u001b[1;33m)\u001b[0m\u001b[1;33m:\u001b[0m\u001b[1;33m\u001b[0m\u001b[1;33m\u001b[0m\u001b[0m\n\u001b[1;32m----> 4\u001b[1;33m         \u001b[1;32mfor\u001b[0m \u001b[0mname\u001b[0m\u001b[1;33m,\u001b[0m\u001b[0mscore\u001b[0m \u001b[1;32min\u001b[0m \u001b[0ml\u001b[0m\u001b[1;33m[\u001b[0m\u001b[0mi\u001b[0m\u001b[1;33m]\u001b[0m\u001b[1;33m:\u001b[0m\u001b[1;33m\u001b[0m\u001b[1;33m\u001b[0m\u001b[0m\n\u001b[0m\u001b[0;32m      5\u001b[0m             \u001b[1;32mif\u001b[0m \u001b[0mname\u001b[0m \u001b[1;32mnot\u001b[0m \u001b[1;32min\u001b[0m \u001b[0magg\u001b[0m\u001b[1;33m.\u001b[0m\u001b[0mkeys\u001b[0m\u001b[1;33m(\u001b[0m\u001b[1;33m)\u001b[0m\u001b[1;33m:\u001b[0m\u001b[1;33m\u001b[0m\u001b[1;33m\u001b[0m\u001b[0m\n\u001b[0;32m      6\u001b[0m                 \u001b[0magg\u001b[0m\u001b[1;33m[\u001b[0m\u001b[0mname\u001b[0m\u001b[1;33m]\u001b[0m \u001b[1;33m=\u001b[0m \u001b[0mscore\u001b[0m\u001b[1;33m\u001b[0m\u001b[1;33m\u001b[0m\u001b[0m\n",
      "\u001b[1;31mValueError\u001b[0m: too many values to unpack (expected 2)"
     ]
    }
   ],
   "source": [
    "def maxaggregate(l):\n",
    "    agg = {}\n",
    "    for i in range(0,len(l)):\n",
    "        for name,score in l[i]:\n",
    "            if name not in agg.keys():\n",
    "                agg[name] = score\n",
    "            else:\n",
    "                agg[name] += score\n",
    "    \n",
    "    return (max(agg.values()))\n",
    "\n",
    "\n",
    "print(maxaggregate([('Kohli',73),('Ashwin',33),('Kohli',7),('Pujara',122),('Ashwin',90)]))\n"
   ]
  },
  {
   "cell_type": "code",
   "execution_count": 39,
   "id": "c8e5074d",
   "metadata": {},
   "outputs": [
    {
     "name": "stdout",
     "output_type": "stream",
     "text": [
      "['Ashwin']\n",
      "['Ashwin', 'Kohli']\n"
     ]
    }
   ],
   "source": [
    "def maxaggregate(l):\n",
    "    agg = {}\n",
    "    inv_agg = {}\n",
    "    fnl = []\n",
    "    for x in l:\n",
    "        name,score = x\n",
    "        if name not in agg.keys():\n",
    "            agg[name] = score\n",
    "        else:\n",
    "            agg[name] += score\n",
    "    \n",
    "    for n,s in agg.items():\n",
    "        if s in inv_agg.keys():\n",
    "            inv_agg[s].append(n)\n",
    "        else:\n",
    "            inv_agg[s] = [n]\n",
    "    \n",
    "    return sorted(inv_agg[max(agg.values())])\n",
    "    \n",
    "        \n",
    "print(maxaggregate([('Kohli',73),('Ashwin',33),('Kohli',7),('Pujara',122),('Ashwin',90)]))\n",
    "print(maxaggregate([('Kohli',73),('Ashwin',33),('Kohli',7),('Pujara',22),('Ashwin',47)]))"
   ]
  },
  {
   "cell_type": "code",
   "execution_count": 36,
   "id": "d0a57073",
   "metadata": {},
   "outputs": [
    {
     "name": "stdout",
     "output_type": "stream",
     "text": [
      "['Ashwin']\n",
      "['Ashwin', 'Kohli']\n"
     ]
    }
   ],
   "source": [
    "def maxaggregate(l):\n",
    "    dic = {}\n",
    "    for i in l:\n",
    "        if i[0] in dic:\n",
    "            dic[i[0]] += i[1]\n",
    "        else:\n",
    "            dic[i[0]] = i[1]\n",
    "    m = max(list(dic.values()))\n",
    "    x = []\n",
    "    for i in dic:\n",
    "        if dic[i] == m:\n",
    "            x.append(i)\n",
    "    return sorted(x)\n",
    "\n",
    "print(maxaggregate([('Kohli',73),('Ashwin',33),('Kohli',7),('Pujara',122),('Ashwin',90)]))\n",
    "print(maxaggregate([('Kohli',73),('Ashwin',33),('Kohli',7),('Pujara',22),('Ashwin',47)]))"
   ]
  },
  {
   "cell_type": "code",
   "execution_count": 15,
   "id": "6b625fd6",
   "metadata": {},
   "outputs": [
    {
     "data": {
      "text/plain": [
       "[]"
      ]
     },
     "execution_count": 15,
     "metadata": {},
     "output_type": "execute_result"
    }
   ],
   "source": [
    "def intersect(l1,l2):\n",
    "    l = []\n",
    "    if len(l1)>=len(l2):\n",
    "        l = [x for x in l1 if x in l2]\n",
    "    elif len(l2)>=len(l1):\n",
    "        l = [x for x in l2 if x in l1]\n",
    "    else:\n",
    "        pass\n",
    "    fnl = list(set(sorted(l)))\n",
    "    return fnl\n",
    "\t\n",
    "intersect([1,2,3],[4,5,6])"
   ]
  },
  {
   "cell_type": "code",
   "execution_count": 13,
   "id": "367a9463",
   "metadata": {},
   "outputs": [
    {
     "name": "stdout",
     "output_type": "stream",
     "text": [
      "{'Kohli': 40.0, 'Ashwin': 40.0, 'Pujara': 22}\n",
      "{40.0: ['Kohli', 'Ashwin'], 22: ['Pujara']}\n"
     ]
    },
    {
     "data": {
      "text/plain": [
       "['Ashwin', 'Kohli']"
      ]
     },
     "execution_count": 13,
     "metadata": {},
     "output_type": "execute_result"
    }
   ],
   "source": [
    "def maxaverage(l):\n",
    "    avg = {}\n",
    "    inv_avg = {}\n",
    "    \n",
    "    for x in l:\n",
    "        name,score = x\n",
    "        i = 2\n",
    "        if name not in avg.keys():\n",
    "            avg[name] = score\n",
    "        else:\n",
    "            avg[name] += (score)\n",
    "            avg[name] = avg[name]/i\n",
    "    print(avg)\n",
    "    for n,s in avg.items():\n",
    "        if s in inv_avg.keys():\n",
    "            inv_avg[s].append(n)\n",
    "        else:\n",
    "            inv_avg[s] = [n]\n",
    "    print(inv_avg)\n",
    "    return sorted(inv_avg[max(avg.values())])\n",
    "\n",
    "\t\n",
    "maxaverage([('Kohli',73),('Ashwin',33),('Kohli',7),('Pujara',22),('Ashwin',47)])"
   ]
  }
 ],
 "metadata": {
  "kernelspec": {
   "display_name": "Python 3 (ipykernel)",
   "language": "python",
   "name": "python3"
  },
  "language_info": {
   "codemirror_mode": {
    "name": "ipython",
    "version": 3
   },
   "file_extension": ".py",
   "mimetype": "text/x-python",
   "name": "python",
   "nbconvert_exporter": "python",
   "pygments_lexer": "ipython3",
   "version": "3.9.7"
  }
 },
 "nbformat": 4,
 "nbformat_minor": 5
}
